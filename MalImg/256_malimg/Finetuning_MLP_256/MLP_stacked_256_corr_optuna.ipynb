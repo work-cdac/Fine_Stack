{
 "cells": [
  {
   "cell_type": "code",
   "execution_count": 1,
   "metadata": {},
   "outputs": [],
   "source": [
    "#importing required libraries\n",
    "import os\n",
    "import glob\n",
    "import numpy as np\n",
    "import pandas as pd\n",
    "import matplotlib.pyplot as plt\n",
    "\n",
    "#importing sklearn libraries\n",
    "from sklearn.neural_network import MLPClassifier\n",
    "from sklearn.model_selection import train_test_split\n",
    "from sklearn.preprocessing import OneHotEncoder\n",
    "from sklearn import metrics\n",
    "from sklearn.metrics import accuracy_score, confusion_matrix, roc_curve, auc\n",
    "from sklearn.metrics import precision_recall_fscore_support\n",
    "from sklearn.model_selection import cross_val_score\n",
    "\n",
    "from numpy import interp\n",
    "from itertools import cycle"
   ]
  },
  {
   "cell_type": "code",
   "execution_count": 2,
   "metadata": {},
   "outputs": [],
   "source": [
    "#directory path for full dataset\n",
    "imagedir =\"/home/sanjeev/DL_POC/MlaImg_Data/Malimg_data/\""
   ]
  },
  {
   "cell_type": "code",
   "execution_count": 3,
   "metadata": {},
   "outputs": [
    {
     "name": "stdout",
     "output_type": "stream",
     "text": [
      "Label: 0\tFamily:       Adialer.C\tNumber of images: 122\n",
      "Label: 1\tFamily:       Agent.FYI\tNumber of images: 116\n",
      "Label: 2\tFamily:       Allaple.A\tNumber of images: 2949\n",
      "Label: 3\tFamily:       Allaple.L\tNumber of images: 1591\n",
      "Label: 4\tFamily:   Alueron.gen!J\tNumber of images: 198\n",
      "Label: 5\tFamily:       Autorun.K\tNumber of images: 106\n",
      "Label: 6\tFamily:     C2LOP.gen!g\tNumber of images: 200\n",
      "Label: 7\tFamily:         C2LOP.P\tNumber of images: 146\n",
      "Label: 8\tFamily:  Dialplatform.B\tNumber of images: 177\n",
      "Label: 9\tFamily:       Dontovo.A\tNumber of images: 162\n",
      "Label:10\tFamily:        Fakerean\tNumber of images: 381\n",
      "Label:11\tFamily:   Instantaccess\tNumber of images: 431\n",
      "Label:12\tFamily:      Lolyda.AA1\tNumber of images: 213\n",
      "Label:13\tFamily:      Lolyda.AA2\tNumber of images: 184\n",
      "Label:14\tFamily:      Lolyda.AA3\tNumber of images: 123\n",
      "Label:15\tFamily:       Lolyda.AT\tNumber of images: 159\n",
      "Label:16\tFamily:     Malex.gen!J\tNumber of images: 136\n",
      "Label:17\tFamily:   Obfuscator.AD\tNumber of images: 142\n",
      "Label:18\tFamily:        Rbot!gen\tNumber of images: 158\n",
      "Label:19\tFamily:      Skintrim.N\tNumber of images: 80\n",
      "Label:20\tFamily:   Swizzor.gen!E\tNumber of images: 128\n",
      "Label:21\tFamily:   Swizzor.gen!I\tNumber of images: 132\n",
      "Label:22\tFamily:           VB.AT\tNumber of images: 408\n",
      "Label:23\tFamily:      Wintrim.BX\tNumber of images: 97\n",
      "Label:24\tFamily:         Yuner.A\tNumber of images: 800\n"
     ]
    }
   ],
   "source": [
    "cur_dir = os.getcwd()\n",
    "os.chdir(imagedir)  # the parent folder with sub-folders\n",
    "\n",
    "# Get number of samples per family\n",
    "list_fams = sorted(os.listdir(os.getcwd()), key=str.lower)  # vector of strings with family names\n",
    "no_imgs = []  # No. of samples per family\n",
    "for i in range(len(list_fams)):\n",
    "    os.chdir(list_fams[i])\n",
    "    len1 = len(glob.glob('*.png'))  # assuming the images are stored as 'png'\n",
    "    no_imgs.append(len1)\n",
    "    os.chdir('..')\n",
    "num_samples = np.sum(no_imgs)  # total number of all samples\n",
    "\n",
    "# Compute the labels\n",
    "y = np.zeros(num_samples)\n",
    "pos = 0\n",
    "label = 0\n",
    "for i in no_imgs:\n",
    "    print (\"Label:%2d\\tFamily: %15s\\tNumber of images: %d\" % (label, list_fams[label], i))\n",
    "    for j in range(i):\n",
    "        y[pos] = label\n",
    "        pos += 1\n",
    "    label += 1\n",
    "num_classes = label"
   ]
  },
  {
   "cell_type": "code",
   "execution_count": 4,
   "metadata": {},
   "outputs": [],
   "source": [
    "vgg16 = np.load(\"/home/sanjeev/DL_Exp_Kajal/Finetune_stack_features/MalImg/vgg16_finetuned_feat_malimg_256.npy\")\n",
    "vgg19 = np.load(\"/home/sanjeev/DL_Exp_Kajal/Finetune_stack_features/MalImg/vgg19_feat_malimg_256.npy\")\n",
    "res = np.load(\"/home/sanjeev/DL_Exp_Kajal/Finetune_stack_features/MalImg/resnet50_feat_malimg_256.npy\")\n",
    "incv3 = np.load(\"/home/sanjeev/DL_Exp_Kajal/Finetune_stack_features/MalImg/inceptionV3_feat_malimg_256.npy\")"
   ]
  },
  {
   "cell_type": "code",
   "execution_count": 5,
   "metadata": {},
   "outputs": [],
   "source": [
    "X = []\n",
    "for i in range(len(vgg16)):\n",
    "    x = list(np.hstack((vgg16[i], vgg19[i], res[i], incv3[i])))\n",
    "    X.append(x)"
   ]
  },
  {
   "cell_type": "code",
   "execution_count": 6,
   "metadata": {},
   "outputs": [],
   "source": [
    "# X"
   ]
  },
  {
   "cell_type": "code",
   "execution_count": 7,
   "metadata": {},
   "outputs": [
    {
     "data": {
      "text/plain": [
       "(9339, 1024)"
      ]
     },
     "execution_count": 7,
     "metadata": {},
     "output_type": "execute_result"
    }
   ],
   "source": [
    "X =  np.array(X)\n",
    "X.shape"
   ]
  },
  {
   "cell_type": "code",
   "execution_count": 8,
   "metadata": {},
   "outputs": [
    {
     "data": {
      "text/plain": [
       "(9339,)"
      ]
     },
     "execution_count": 8,
     "metadata": {},
     "output_type": "execute_result"
    }
   ],
   "source": [
    "label = np.array(y)\n",
    "label.shape"
   ]
  },
  {
   "cell_type": "code",
   "execution_count": 10,
   "metadata": {},
   "outputs": [
    {
     "data": {
      "text/plain": [
       "(1024, 1024)"
      ]
     },
     "execution_count": 10,
     "metadata": {},
     "output_type": "execute_result"
    }
   ],
   "source": [
    "cor_mat = pd.DataFrame(X).corr()\n",
    "cor_mat.shape"
   ]
  },
  {
   "cell_type": "code",
   "execution_count": 11,
   "metadata": {},
   "outputs": [],
   "source": [
    "li = []\n",
    "for i in range(1024):\n",
    "    for j in range(1024):\n",
    "        if i == j:\n",
    "            pass\n",
    "        else:\n",
    "            if cor_mat[i][j] > 0.9:\n",
    "                li.append([i, j])"
   ]
  },
  {
   "cell_type": "code",
   "execution_count": 12,
   "metadata": {},
   "outputs": [],
   "source": [
    "lis_11 = [i[0] for i in li]\n",
    "lis_22 = [i[1] for i in li]"
   ]
  },
  {
   "cell_type": "code",
   "execution_count": 13,
   "metadata": {},
   "outputs": [
    {
     "data": {
      "text/plain": [
       "True"
      ]
     },
     "execution_count": 13,
     "metadata": {},
     "output_type": "execute_result"
    }
   ],
   "source": [
    "x = sorted(list(set(lis_11)))\n",
    "y = sorted(list(set(lis_22)))\n",
    "x == y"
   ]
  },
  {
   "cell_type": "markdown",
   "metadata": {},
   "source": [
    "#### Removal of most correlated features"
   ]
  },
  {
   "cell_type": "code",
   "execution_count": 19,
   "metadata": {},
   "outputs": [
    {
     "data": {
      "text/plain": [
       "39"
      ]
     },
     "execution_count": 19,
     "metadata": {},
     "output_type": "execute_result"
    }
   ],
   "source": [
    "s = {x for l in li for x in l}\n",
    "len(s)"
   ]
  },
  {
   "cell_type": "code",
   "execution_count": 20,
   "metadata": {},
   "outputs": [
    {
     "name": "stdout",
     "output_type": "stream",
     "text": [
      "(9339, 985)\n"
     ]
    }
   ],
   "source": [
    "arr = X\n",
    "arr = np.delete(arr, list(s), axis=1)\n",
    "print(arr.shape)"
   ]
  },
  {
   "cell_type": "code",
   "execution_count": 21,
   "metadata": {},
   "outputs": [],
   "source": [
    "# !pip install optuna"
   ]
  },
  {
   "cell_type": "code",
   "execution_count": 22,
   "metadata": {},
   "outputs": [],
   "source": [
    "import optuna"
   ]
  },
  {
   "cell_type": "code",
   "execution_count": 23,
   "metadata": {},
   "outputs": [],
   "source": [
    "def objective(trial):\n",
    "    n_layers = trial.suggest_int('n_layers', 1, 4)\n",
    "\n",
    "    layers = []\n",
    "    for i in range(n_layers):\n",
    "        layers.append(trial.suggest_int('n_units {}'.format(i), 1, 128))\n",
    "\n",
    "    clf = MLPClassifier(tuple(layers))\n",
    "    x_train, x_test, y_train, y_test = train_test_split(arr, label, test_size=0.20, random_state=31)\n",
    "\n",
    "    clf.fit(x_train, y_train)\n",
    "    return 1.0 - clf.score(x_test, y_test)"
   ]
  },
  {
   "cell_type": "code",
   "execution_count": 24,
   "metadata": {},
   "outputs": [
    {
     "name": "stderr",
     "output_type": "stream",
     "text": [
      "\u001b[32m[I 2022-10-26 17:47:21,948]\u001b[0m A new study created in memory with name: no-name-e8bc1022-da65-4563-8f33-12e66985bc38\u001b[0m\n",
      "\u001b[32m[I 2022-10-26 17:47:37,431]\u001b[0m Trial 0 finished with value: 0.9823340471092077 and parameters: {'n_layers': 4, 'n_units 0': 92, 'n_units 1': 26, 'n_units 2': 82, 'n_units 3': 64}. Best is trial 0 with value: 0.9823340471092077.\u001b[0m\n",
      "\u001b[32m[I 2022-10-26 17:47:52,873]\u001b[0m Trial 1 finished with value: 0.9839400428265525 and parameters: {'n_layers': 4, 'n_units 0': 125, 'n_units 1': 43, 'n_units 2': 83, 'n_units 3': 40}. Best is trial 0 with value: 0.9823340471092077.\u001b[0m\n",
      "\u001b[32m[I 2022-10-26 17:48:02,175]\u001b[0m Trial 2 finished with value: 0.9823340471092077 and parameters: {'n_layers': 1, 'n_units 0': 36}. Best is trial 0 with value: 0.9823340471092077.\u001b[0m\n",
      "\u001b[32m[I 2022-10-26 17:48:16,798]\u001b[0m Trial 3 finished with value: 0.9817987152034261 and parameters: {'n_layers': 4, 'n_units 0': 59, 'n_units 1': 90, 'n_units 2': 104, 'n_units 3': 106}. Best is trial 3 with value: 0.9817987152034261.\u001b[0m\n",
      "\u001b[32m[I 2022-10-26 17:48:55,034]\u001b[0m Trial 4 finished with value: 0.9293361884368309 and parameters: {'n_layers': 3, 'n_units 0': 2, 'n_units 1': 125, 'n_units 2': 8}. Best is trial 4 with value: 0.9293361884368309.\u001b[0m\n",
      "\u001b[32m[I 2022-10-26 17:49:07,924]\u001b[0m Trial 5 finished with value: 0.9839400428265525 and parameters: {'n_layers': 2, 'n_units 0': 39, 'n_units 1': 23}. Best is trial 4 with value: 0.9293361884368309.\u001b[0m\n",
      "\u001b[32m[I 2022-10-26 17:49:17,687]\u001b[0m Trial 6 finished with value: 0.9834047109207709 and parameters: {'n_layers': 1, 'n_units 0': 40}. Best is trial 4 with value: 0.9293361884368309.\u001b[0m\n",
      "\u001b[32m[I 2022-10-26 17:49:34,517]\u001b[0m Trial 7 finished with value: 0.9855460385438972 and parameters: {'n_layers': 3, 'n_units 0': 95, 'n_units 1': 16, 'n_units 2': 58}. Best is trial 4 with value: 0.9293361884368309.\u001b[0m\n",
      "\u001b[32m[I 2022-10-26 17:49:50,031]\u001b[0m Trial 8 finished with value: 0.9796573875802997 and parameters: {'n_layers': 4, 'n_units 0': 8, 'n_units 1': 83, 'n_units 2': 116, 'n_units 3': 25}. Best is trial 4 with value: 0.9293361884368309.\u001b[0m\n",
      "\u001b[32m[I 2022-10-26 17:50:05,947]\u001b[0m Trial 9 finished with value: 0.9828693790149893 and parameters: {'n_layers': 1, 'n_units 0': 82}. Best is trial 4 with value: 0.9293361884368309.\u001b[0m\n",
      "\u001b[32m[I 2022-10-26 17:50:11,751]\u001b[0m Trial 10 finished with value: 0.3404710920770878 and parameters: {'n_layers': 3, 'n_units 0': 1, 'n_units 1': 119, 'n_units 2': 3}. Best is trial 10 with value: 0.3404710920770878.\u001b[0m\n",
      "\u001b[32m[I 2022-10-26 17:50:25,613]\u001b[0m Trial 11 finished with value: 0.9791220556745182 and parameters: {'n_layers': 3, 'n_units 0': 9, 'n_units 1': 128, 'n_units 2': 11}. Best is trial 10 with value: 0.3404710920770878.\u001b[0m\n",
      "\u001b[32m[I 2022-10-26 17:50:56,534]\u001b[0m Trial 12 finished with value: 0.6113490364025695 and parameters: {'n_layers': 3, 'n_units 0': 1, 'n_units 1': 126, 'n_units 2': 3}. Best is trial 10 with value: 0.3404710920770878.\u001b[0m\n",
      "\u001b[32m[I 2022-10-26 17:51:10,302]\u001b[0m Trial 13 finished with value: 0.9834047109207709 and parameters: {'n_layers': 2, 'n_units 0': 20, 'n_units 1': 104}. Best is trial 10 with value: 0.3404710920770878.\u001b[0m\n",
      "\u001b[32m[I 2022-10-26 17:51:21,224]\u001b[0m Trial 14 finished with value: 0.9801927194860813 and parameters: {'n_layers': 2, 'n_units 0': 25, 'n_units 1': 108}. Best is trial 10 with value: 0.3404710920770878.\u001b[0m\n",
      "\u001b[32m[I 2022-10-26 17:51:36,579]\u001b[0m Trial 15 finished with value: 0.9855460385438972 and parameters: {'n_layers': 3, 'n_units 0': 59, 'n_units 1': 69, 'n_units 2': 31}. Best is trial 10 with value: 0.3404710920770878.\u001b[0m\n",
      "\u001b[32m[I 2022-10-26 17:51:52,312]\u001b[0m Trial 16 finished with value: 0.9801927194860813 and parameters: {'n_layers': 3, 'n_units 0': 21, 'n_units 1': 106, 'n_units 2': 35}. Best is trial 10 with value: 0.3404710920770878.\u001b[0m\n",
      "\u001b[32m[I 2022-10-26 17:51:55,558]\u001b[0m Trial 17 finished with value: 0.3404710920770878 and parameters: {'n_layers': 2, 'n_units 0': 1, 'n_units 1': 57}. Best is trial 10 with value: 0.3404710920770878.\u001b[0m\n",
      "\u001b[32m[I 2022-10-26 17:52:09,735]\u001b[0m Trial 18 finished with value: 0.9812633832976445 and parameters: {'n_layers': 2, 'n_units 0': 126, 'n_units 1': 51}. Best is trial 10 with value: 0.3404710920770878.\u001b[0m\n",
      "\u001b[32m[I 2022-10-26 17:52:19,462]\u001b[0m Trial 19 finished with value: 0.9839400428265525 and parameters: {'n_layers': 2, 'n_units 0': 47, 'n_units 1': 62}. Best is trial 10 with value: 0.3404710920770878.\u001b[0m\n",
      "\u001b[32m[I 2022-10-26 17:52:32,059]\u001b[0m Trial 20 finished with value: 0.9834047109207709 and parameters: {'n_layers': 2, 'n_units 0': 77, 'n_units 1': 41}. Best is trial 10 with value: 0.3404710920770878.\u001b[0m\n",
      "/home/sanjeev/anaconda3/lib/python3.7/site-packages/sklearn/neural_network/_multilayer_perceptron.py:696: ConvergenceWarning: Stochastic Optimizer: Maximum iterations (200) reached and the optimization hasn't converged yet.\n",
      "  ConvergenceWarning,\n",
      "\u001b[32m[I 2022-10-26 17:53:00,011]\u001b[0m Trial 21 finished with value: 0.6263383297644539 and parameters: {'n_layers': 3, 'n_units 0': 1, 'n_units 1': 86, 'n_units 2': 2}. Best is trial 10 with value: 0.3404710920770878.\u001b[0m\n",
      "\u001b[32m[I 2022-10-26 17:53:13,583]\u001b[0m Trial 22 finished with value: 0.9828693790149893 and parameters: {'n_layers': 3, 'n_units 0': 16, 'n_units 1': 117, 'n_units 2': 33}. Best is trial 10 with value: 0.3404710920770878.\u001b[0m\n",
      "\u001b[32m[I 2022-10-26 17:53:26,419]\u001b[0m Trial 23 finished with value: 0.9817987152034261 and parameters: {'n_layers': 3, 'n_units 0': 28, 'n_units 1': 74, 'n_units 2': 53}. Best is trial 10 with value: 0.3404710920770878.\u001b[0m\n",
      "\u001b[32m[I 2022-10-26 17:53:32,649]\u001b[0m Trial 24 finished with value: 0.3404710920770878 and parameters: {'n_layers': 2, 'n_units 0': 1, 'n_units 1': 3}. Best is trial 10 with value: 0.3404710920770878.\u001b[0m\n",
      "\u001b[32m[I 2022-10-26 17:53:50,371]\u001b[0m Trial 25 finished with value: 0.9796573875802997 and parameters: {'n_layers': 2, 'n_units 0': 17, 'n_units 1': 9}. Best is trial 10 with value: 0.3404710920770878.\u001b[0m\n",
      "\u001b[32m[I 2022-10-26 17:54:00,675]\u001b[0m Trial 26 finished with value: 0.9817987152034261 and parameters: {'n_layers': 1, 'n_units 0': 31}. Best is trial 10 with value: 0.3404710920770878.\u001b[0m\n",
      "\u001b[32m[I 2022-10-26 17:54:28,572]\u001b[0m Trial 27 finished with value: 0.9684154175588865 and parameters: {'n_layers': 2, 'n_units 0': 11, 'n_units 1': 5}. Best is trial 10 with value: 0.3404710920770878.\u001b[0m\n",
      "\u001b[32m[I 2022-10-26 17:54:38,633]\u001b[0m Trial 28 finished with value: 0.9817987152034261 and parameters: {'n_layers': 2, 'n_units 0': 47, 'n_units 1': 34}. Best is trial 10 with value: 0.3404710920770878.\u001b[0m\n",
      "\u001b[32m[I 2022-10-26 17:54:50,621]\u001b[0m Trial 29 finished with value: 0.9850107066381156 and parameters: {'n_layers': 1, 'n_units 0': 96}. Best is trial 10 with value: 0.3404710920770878.\u001b[0m\n",
      "\u001b[32m[I 2022-10-26 17:55:02,550]\u001b[0m Trial 30 finished with value: 0.9839400428265525 and parameters: {'n_layers': 4, 'n_units 0': 13, 'n_units 1': 56, 'n_units 2': 128, 'n_units 3': 123}. Best is trial 10 with value: 0.3404710920770878.\u001b[0m\n",
      "/home/sanjeev/anaconda3/lib/python3.7/site-packages/sklearn/neural_network/_multilayer_perceptron.py:696: ConvergenceWarning: Stochastic Optimizer: Maximum iterations (200) reached and the optimization hasn't converged yet.\n",
      "  ConvergenceWarning,\n",
      "\u001b[32m[I 2022-10-26 17:55:54,089]\u001b[0m Trial 31 finished with value: 0.7044967880085653 and parameters: {'n_layers': 3, 'n_units 0': 1, 'n_units 1': 96, 'n_units 2': 23}. Best is trial 10 with value: 0.3404710920770878.\u001b[0m\n",
      "\u001b[32m[I 2022-10-26 17:56:08,925]\u001b[0m Trial 32 finished with value: 0.9839400428265525 and parameters: {'n_layers': 3, 'n_units 0': 107, 'n_units 1': 118, 'n_units 2': 46}. Best is trial 10 with value: 0.3404710920770878.\u001b[0m\n",
      "\u001b[32m[I 2022-10-26 17:56:26,345]\u001b[0m Trial 33 finished with value: 0.9748394004282656 and parameters: {'n_layers': 2, 'n_units 0': 4, 'n_units 1': 114}. Best is trial 10 with value: 0.3404710920770878.\u001b[0m\n",
      "/home/sanjeev/anaconda3/lib/python3.7/site-packages/sklearn/neural_network/_multilayer_perceptron.py:696: ConvergenceWarning: Stochastic Optimizer: Maximum iterations (200) reached and the optimization hasn't converged yet.\n",
      "  ConvergenceWarning,\n",
      "\u001b[32m[I 2022-10-26 17:57:17,330]\u001b[0m Trial 34 finished with value: 0.9657387580299786 and parameters: {'n_layers': 4, 'n_units 0': 12, 'n_units 1': 77, 'n_units 2': 16, 'n_units 3': 3}. Best is trial 10 with value: 0.3404710920770878.\u001b[0m\n"
     ]
    },
    {
     "name": "stderr",
     "output_type": "stream",
     "text": [
      "\u001b[32m[I 2022-10-26 17:57:26,736]\u001b[0m Trial 35 finished with value: 0.9796573875802997 and parameters: {'n_layers': 3, 'n_units 0': 23, 'n_units 1': 97, 'n_units 2': 71}. Best is trial 10 with value: 0.3404710920770878.\u001b[0m\n",
      "/home/sanjeev/anaconda3/lib/python3.7/site-packages/sklearn/neural_network/_multilayer_perceptron.py:696: ConvergenceWarning: Stochastic Optimizer: Maximum iterations (200) reached and the optimization hasn't converged yet.\n",
      "  ConvergenceWarning,\n",
      "\u001b[32m[I 2022-10-26 17:57:41,158]\u001b[0m Trial 36 finished with value: 0.9518201284796574 and parameters: {'n_layers': 2, 'n_units 0': 7, 'n_units 1': 27}. Best is trial 10 with value: 0.3404710920770878.\u001b[0m\n",
      "\u001b[32m[I 2022-10-26 17:57:49,626]\u001b[0m Trial 37 finished with value: 0.9823340471092077 and parameters: {'n_layers': 4, 'n_units 0': 33, 'n_units 1': 49, 'n_units 2': 22, 'n_units 3': 88}. Best is trial 10 with value: 0.3404710920770878.\u001b[0m\n",
      "/home/sanjeev/anaconda3/lib/python3.7/site-packages/sklearn/neural_network/_multilayer_perceptron.py:696: ConvergenceWarning: Stochastic Optimizer: Maximum iterations (200) reached and the optimization hasn't converged yet.\n",
      "  ConvergenceWarning,\n",
      "\u001b[32m[I 2022-10-26 17:57:58,527]\u001b[0m Trial 38 finished with value: 0.6193790149892934 and parameters: {'n_layers': 3, 'n_units 0': 1, 'n_units 1': 1, 'n_units 2': 5}. Best is trial 10 with value: 0.3404710920770878.\u001b[0m\n",
      "\u001b[32m[I 2022-10-26 17:58:05,867]\u001b[0m Trial 39 finished with value: 0.9839400428265525 and parameters: {'n_layers': 2, 'n_units 0': 112, 'n_units 1': 124}. Best is trial 10 with value: 0.3404710920770878.\u001b[0m\n",
      "\u001b[32m[I 2022-10-26 17:58:10,870]\u001b[0m Trial 40 finished with value: 0.9850107066381156 and parameters: {'n_layers': 1, 'n_units 0': 45}. Best is trial 10 with value: 0.3404710920770878.\u001b[0m\n",
      "/home/sanjeev/anaconda3/lib/python3.7/site-packages/sklearn/neural_network/_multilayer_perceptron.py:696: ConvergenceWarning: Stochastic Optimizer: Maximum iterations (200) reached and the optimization hasn't converged yet.\n",
      "  ConvergenceWarning,\n",
      "\u001b[32m[I 2022-10-26 17:58:34,200]\u001b[0m Trial 41 finished with value: 0.578693790149893 and parameters: {'n_layers': 3, 'n_units 0': 1, 'n_units 1': 3, 'n_units 2': 2}. Best is trial 10 with value: 0.3404710920770878.\u001b[0m\n",
      "/home/sanjeev/anaconda3/lib/python3.7/site-packages/sklearn/neural_network/_multilayer_perceptron.py:696: ConvergenceWarning: Stochastic Optimizer: Maximum iterations (200) reached and the optimization hasn't converged yet.\n",
      "  ConvergenceWarning,\n",
      "\u001b[32m[I 2022-10-26 17:59:13,821]\u001b[0m Trial 42 finished with value: 0.5920770877944326 and parameters: {'n_layers': 3, 'n_units 0': 7, 'n_units 1': 21, 'n_units 2': 1}. Best is trial 10 with value: 0.3404710920770878.\u001b[0m\n",
      "\u001b[32m[I 2022-10-26 17:59:29,869]\u001b[0m Trial 43 finished with value: 0.9737687366167024 and parameters: {'n_layers': 3, 'n_units 0': 8, 'n_units 1': 14, 'n_units 2': 20}. Best is trial 10 with value: 0.3404710920770878.\u001b[0m\n",
      "\u001b[32m[I 2022-10-26 17:59:38,114]\u001b[0m Trial 44 finished with value: 0.9817987152034261 and parameters: {'n_layers': 3, 'n_units 0': 17, 'n_units 1': 21, 'n_units 2': 40}. Best is trial 10 with value: 0.3404710920770878.\u001b[0m\n",
      "\u001b[32m[I 2022-10-26 18:00:22,362]\u001b[0m Trial 45 finished with value: 0.857066381156317 and parameters: {'n_layers': 4, 'n_units 0': 8, 'n_units 1': 12, 'n_units 2': 1, 'n_units 3': 70}. Best is trial 10 with value: 0.3404710920770878.\u001b[0m\n",
      "\u001b[32m[I 2022-10-26 18:00:34,989]\u001b[0m Trial 46 finished with value: 0.9796573875802997 and parameters: {'n_layers': 3, 'n_units 0': 13, 'n_units 1': 29, 'n_units 2': 26}. Best is trial 10 with value: 0.3404710920770878.\u001b[0m\n",
      "\u001b[32m[I 2022-10-26 18:00:43,934]\u001b[0m Trial 47 finished with value: 0.9839400428265525 and parameters: {'n_layers': 2, 'n_units 0': 24, 'n_units 1': 19}. Best is trial 10 with value: 0.3404710920770878.\u001b[0m\n",
      "\u001b[32m[I 2022-10-26 18:01:00,505]\u001b[0m Trial 48 finished with value: 0.974304068522484 and parameters: {'n_layers': 2, 'n_units 0': 6, 'n_units 1': 37}. Best is trial 10 with value: 0.3404710920770878.\u001b[0m\n",
      "\u001b[32m[I 2022-10-26 18:01:47,073]\u001b[0m Trial 49 finished with value: 0.5390792291220556 and parameters: {'n_layers': 3, 'n_units 0': 69, 'n_units 1': 3, 'n_units 2': 13}. Best is trial 10 with value: 0.3404710920770878.\u001b[0m\n",
      "\u001b[32m[I 2022-10-26 18:01:54,113]\u001b[0m Trial 50 finished with value: 0.3404710920770878 and parameters: {'n_layers': 3, 'n_units 0': 58, 'n_units 1': 1, 'n_units 2': 13}. Best is trial 10 with value: 0.3404710920770878.\u001b[0m\n",
      "\u001b[32m[I 2022-10-26 18:02:39,385]\u001b[0m Trial 51 finished with value: 0.6065310492505354 and parameters: {'n_layers': 3, 'n_units 0': 77, 'n_units 1': 1, 'n_units 2': 14}. Best is trial 10 with value: 0.3404710920770878.\u001b[0m\n",
      "\u001b[32m[I 2022-10-26 18:02:54,585]\u001b[0m Trial 52 finished with value: 0.9801927194860813 and parameters: {'n_layers': 3, 'n_units 0': 58, 'n_units 1': 6, 'n_units 2': 14}. Best is trial 10 with value: 0.3404710920770878.\u001b[0m\n",
      "\u001b[32m[I 2022-10-26 18:03:20,342]\u001b[0m Trial 53 finished with value: 0.9753747323340471 and parameters: {'n_layers': 3, 'n_units 0': 68, 'n_units 1': 11, 'n_units 2': 13}. Best is trial 10 with value: 0.3404710920770878.\u001b[0m\n",
      "\u001b[32m[I 2022-10-26 18:03:32,454]\u001b[0m Trial 54 finished with value: 0.9834047109207709 and parameters: {'n_layers': 3, 'n_units 0': 62, 'n_units 1': 16, 'n_units 2': 83}. Best is trial 10 with value: 0.3404710920770878.\u001b[0m\n",
      "\u001b[32m[I 2022-10-26 18:03:43,135]\u001b[0m Trial 55 finished with value: 0.9839400428265525 and parameters: {'n_layers': 2, 'n_units 0': 53, 'n_units 1': 6}. Best is trial 10 with value: 0.3404710920770878.\u001b[0m\n",
      "\u001b[32m[I 2022-10-26 18:04:49,022]\u001b[0m Trial 56 finished with value: 0.9031049250535332 and parameters: {'n_layers': 3, 'n_units 0': 67, 'n_units 1': 3, 'n_units 2': 69}. Best is trial 10 with value: 0.3404710920770878.\u001b[0m\n",
      "\u001b[32m[I 2022-10-26 18:05:02,822]\u001b[0m Trial 57 finished with value: 0.9796573875802997 and parameters: {'n_layers': 3, 'n_units 0': 39, 'n_units 1': 9, 'n_units 2': 96}. Best is trial 10 with value: 0.3404710920770878.\u001b[0m\n",
      "\u001b[32m[I 2022-10-26 18:05:15,446]\u001b[0m Trial 58 finished with value: 0.9828693790149893 and parameters: {'n_layers': 2, 'n_units 0': 83, 'n_units 1': 62}. Best is trial 10 with value: 0.3404710920770878.\u001b[0m\n",
      "\u001b[32m[I 2022-10-26 18:05:30,570]\u001b[0m Trial 59 finished with value: 0.9823340471092077 and parameters: {'n_layers': 2, 'n_units 0': 19, 'n_units 1': 16}. Best is trial 10 with value: 0.3404710920770878.\u001b[0m\n",
      "\u001b[32m[I 2022-10-26 18:05:42,683]\u001b[0m Trial 60 finished with value: 0.984475374732334 and parameters: {'n_layers': 3, 'n_units 0': 91, 'n_units 1': 26, 'n_units 2': 41}. Best is trial 10 with value: 0.3404710920770878.\u001b[0m\n",
      "\u001b[32m[I 2022-10-26 18:06:05,690]\u001b[0m Trial 61 finished with value: 0.9801927194860813 and parameters: {'n_layers': 3, 'n_units 0': 72, 'n_units 1': 22, 'n_units 2': 6}. Best is trial 10 with value: 0.3404710920770878.\u001b[0m\n",
      "\u001b[32m[I 2022-10-26 18:06:26,147]\u001b[0m Trial 62 finished with value: 0.9753747323340471 and parameters: {'n_layers': 3, 'n_units 0': 14, 'n_units 1': 9, 'n_units 2': 10}. Best is trial 10 with value: 0.3404710920770878.\u001b[0m\n",
      "\u001b[32m[I 2022-10-26 18:07:01,765]\u001b[0m Trial 63 finished with value: 0.943254817987152 and parameters: {'n_layers': 3, 'n_units 0': 5, 'n_units 1': 32, 'n_units 2': 27}. Best is trial 10 with value: 0.3404710920770878.\u001b[0m\n",
      "/home/sanjeev/anaconda3/lib/python3.7/site-packages/sklearn/neural_network/_multilayer_perceptron.py:696: ConvergenceWarning: Stochastic Optimizer: Maximum iterations (200) reached and the optimization hasn't converged yet.\n",
      "  ConvergenceWarning,\n",
      "\u001b[32m[I 2022-10-26 18:07:41,005]\u001b[0m Trial 64 finished with value: 0.9512847965738758 and parameters: {'n_layers': 3, 'n_units 0': 4, 'n_units 1': 6, 'n_units 2': 19}. Best is trial 10 with value: 0.3404710920770878.\u001b[0m\n",
      "/home/sanjeev/anaconda3/lib/python3.7/site-packages/sklearn/neural_network/_multilayer_perceptron.py:696: ConvergenceWarning: Stochastic Optimizer: Maximum iterations (200) reached and the optimization hasn't converged yet.\n",
      "  ConvergenceWarning,\n",
      "\u001b[32m[I 2022-10-26 18:08:52,431]\u001b[0m Trial 65 finished with value: 0.5776231263383298 and parameters: {'n_layers': 3, 'n_units 0': 53, 'n_units 1': 44, 'n_units 2': 1}. Best is trial 10 with value: 0.3404710920770878.\u001b[0m\n"
     ]
    },
    {
     "name": "stderr",
     "output_type": "stream",
     "text": [
      "/home/sanjeev/anaconda3/lib/python3.7/site-packages/sklearn/neural_network/_multilayer_perceptron.py:696: ConvergenceWarning: Stochastic Optimizer: Maximum iterations (200) reached and the optimization hasn't converged yet.\n",
      "  ConvergenceWarning,\n",
      "\u001b[32m[I 2022-10-26 18:10:02,145]\u001b[0m Trial 66 finished with value: 0.8752676659528907 and parameters: {'n_layers': 4, 'n_units 0': 50, 'n_units 1': 68, 'n_units 2': 9, 'n_units 3': 3}. Best is trial 10 with value: 0.3404710920770878.\u001b[0m\n",
      "\u001b[32m[I 2022-10-26 18:10:16,123]\u001b[0m Trial 67 finished with value: 0.9823340471092077 and parameters: {'n_layers': 2, 'n_units 0': 73, 'n_units 1': 56}. Best is trial 10 with value: 0.3404710920770878.\u001b[0m\n",
      "\u001b[32m[I 2022-10-26 18:10:28,100]\u001b[0m Trial 68 finished with value: 0.9834047109207709 and parameters: {'n_layers': 3, 'n_units 0': 60, 'n_units 1': 47, 'n_units 2': 11}. Best is trial 10 with value: 0.3404710920770878.\u001b[0m\n",
      "\u001b[32m[I 2022-10-26 18:10:38,034]\u001b[0m Trial 69 finished with value: 0.9812633832976445 and parameters: {'n_layers': 3, 'n_units 0': 29, 'n_units 1': 40, 'n_units 2': 28}. Best is trial 10 with value: 0.3404710920770878.\u001b[0m\n",
      "\u001b[32m[I 2022-10-26 18:10:48,782]\u001b[0m Trial 70 finished with value: 0.9839400428265525 and parameters: {'n_layers': 1, 'n_units 0': 56}. Best is trial 10 with value: 0.3404710920770878.\u001b[0m\n",
      "\u001b[32m[I 2022-10-26 18:11:01,092]\u001b[0m Trial 71 finished with value: 0.3404710920770878 and parameters: {'n_layers': 3, 'n_units 0': 11, 'n_units 1': 1, 'n_units 2': 2}. Best is trial 10 with value: 0.3404710920770878.\u001b[0m\n",
      "\u001b[32m[I 2022-10-26 18:11:08,164]\u001b[0m Trial 72 finished with value: 0.3404710920770878 and parameters: {'n_layers': 3, 'n_units 0': 10, 'n_units 1': 3, 'n_units 2': 7}. Best is trial 10 with value: 0.3404710920770878.\u001b[0m\n",
      "\u001b[32m[I 2022-10-26 18:11:21,814]\u001b[0m Trial 73 finished with value: 0.9753747323340471 and parameters: {'n_layers': 3, 'n_units 0': 11, 'n_units 1': 77, 'n_units 2': 7}. Best is trial 10 with value: 0.3404710920770878.\u001b[0m\n",
      "\u001b[32m[I 2022-10-26 18:11:31,585]\u001b[0m Trial 74 finished with value: 0.984475374732334 and parameters: {'n_layers': 3, 'n_units 0': 43, 'n_units 1': 55, 'n_units 2': 17}. Best is trial 10 with value: 0.3404710920770878.\u001b[0m\n",
      "/home/sanjeev/anaconda3/lib/python3.7/site-packages/sklearn/neural_network/_multilayer_perceptron.py:696: ConvergenceWarning: Stochastic Optimizer: Maximum iterations (200) reached and the optimization hasn't converged yet.\n",
      "  ConvergenceWarning,\n",
      "\u001b[32m[I 2022-10-26 18:12:49,670]\u001b[0m Trial 75 finished with value: 0.6750535331905781 and parameters: {'n_layers': 4, 'n_units 0': 65, 'n_units 1': 1, 'n_units 2': 8, 'n_units 3': 46}. Best is trial 10 with value: 0.3404710920770878.\u001b[0m\n",
      "\u001b[32m[I 2022-10-26 18:13:03,207]\u001b[0m Trial 76 finished with value: 0.9801927194860813 and parameters: {'n_layers': 3, 'n_units 0': 36, 'n_units 1': 12, 'n_units 2': 18}. Best is trial 10 with value: 0.3404710920770878.\u001b[0m\n",
      "\u001b[32m[I 2022-10-26 18:13:14,501]\u001b[0m Trial 77 finished with value: 0.9817987152034261 and parameters: {'n_layers': 2, 'n_units 0': 20, 'n_units 1': 92}. Best is trial 10 with value: 0.3404710920770878.\u001b[0m\n",
      "\u001b[32m[I 2022-10-26 18:13:41,255]\u001b[0m Trial 78 finished with value: 0.9555674518201285 and parameters: {'n_layers': 3, 'n_units 0': 10, 'n_units 1': 45, 'n_units 2': 6}. Best is trial 10 with value: 0.3404710920770878.\u001b[0m\n",
      "\u001b[32m[I 2022-10-26 18:13:59,289]\u001b[0m Trial 79 finished with value: 0.9775160599571735 and parameters: {'n_layers': 2, 'n_units 0': 85, 'n_units 1': 8}. Best is trial 10 with value: 0.3404710920770878.\u001b[0m\n",
      "\u001b[32m[I 2022-10-26 18:14:09,599]\u001b[0m Trial 80 finished with value: 0.9823340471092077 and parameters: {'n_layers': 3, 'n_units 0': 15, 'n_units 1': 18, 'n_units 2': 33}. Best is trial 10 with value: 0.3404710920770878.\u001b[0m\n",
      "/home/sanjeev/anaconda3/lib/python3.7/site-packages/sklearn/neural_network/_multilayer_perceptron.py:696: ConvergenceWarning: Stochastic Optimizer: Maximum iterations (200) reached and the optimization hasn't converged yet.\n",
      "  ConvergenceWarning,\n",
      "\u001b[32m[I 2022-10-26 18:14:26,663]\u001b[0m Trial 81 finished with value: 0.5481798715203426 and parameters: {'n_layers': 3, 'n_units 0': 2, 'n_units 1': 4, 'n_units 2': 4}. Best is trial 10 with value: 0.3404710920770878.\u001b[0m\n",
      "\u001b[32m[I 2022-10-26 18:14:41,038]\u001b[0m Trial 82 finished with value: 0.3404710920770878 and parameters: {'n_layers': 3, 'n_units 0': 5, 'n_units 1': 4, 'n_units 2': 1}. Best is trial 10 with value: 0.3404710920770878.\u001b[0m\n",
      "\u001b[32m[I 2022-10-26 18:15:01,446]\u001b[0m Trial 83 finished with value: 0.9732334047109208 and parameters: {'n_layers': 3, 'n_units 0': 5, 'n_units 1': 4, 'n_units 2': 11}. Best is trial 10 with value: 0.3404710920770878.\u001b[0m\n",
      "/home/sanjeev/anaconda3/lib/python3.7/site-packages/sklearn/neural_network/_multilayer_perceptron.py:696: ConvergenceWarning: Stochastic Optimizer: Maximum iterations (200) reached and the optimization hasn't converged yet.\n",
      "  ConvergenceWarning,\n",
      "\u001b[32m[I 2022-10-26 18:15:39,242]\u001b[0m Trial 84 finished with value: 0.9336188436830836 and parameters: {'n_layers': 3, 'n_units 0': 3, 'n_units 1': 14, 'n_units 2': 7}. Best is trial 10 with value: 0.3404710920770878.\u001b[0m\n",
      "/home/sanjeev/anaconda3/lib/python3.7/site-packages/sklearn/neural_network/_multilayer_perceptron.py:696: ConvergenceWarning: Stochastic Optimizer: Maximum iterations (200) reached and the optimization hasn't converged yet.\n",
      "  ConvergenceWarning,\n",
      "\u001b[32m[I 2022-10-26 18:16:21,713]\u001b[0m Trial 85 finished with value: 0.7334047109207709 and parameters: {'n_layers': 3, 'n_units 0': 9, 'n_units 1': 1, 'n_units 2': 22}. Best is trial 10 with value: 0.3404710920770878.\u001b[0m\n",
      "/home/sanjeev/anaconda3/lib/python3.7/site-packages/sklearn/neural_network/_multilayer_perceptron.py:696: ConvergenceWarning: Stochastic Optimizer: Maximum iterations (200) reached and the optimization hasn't converged yet.\n",
      "  ConvergenceWarning,\n",
      "\u001b[32m[I 2022-10-26 18:17:00,395]\u001b[0m Trial 86 finished with value: 0.9234475374732334 and parameters: {'n_layers': 3, 'n_units 0': 2, 'n_units 1': 9, 'n_units 2': 16}. Best is trial 10 with value: 0.3404710920770878.\u001b[0m\n",
      "\u001b[32m[I 2022-10-26 18:17:31,346]\u001b[0m Trial 87 finished with value: 0.9710920770877944 and parameters: {'n_layers': 2, 'n_units 0': 17, 'n_units 1': 5}. Best is trial 10 with value: 0.3404710920770878.\u001b[0m\n",
      "/home/sanjeev/anaconda3/lib/python3.7/site-packages/sklearn/neural_network/_multilayer_perceptron.py:696: ConvergenceWarning: Stochastic Optimizer: Maximum iterations (200) reached and the optimization hasn't converged yet.\n",
      "  ConvergenceWarning,\n",
      "\u001b[32m[I 2022-10-26 18:18:19,629]\u001b[0m Trial 88 finished with value: 0.632762312633833 and parameters: {'n_layers': 3, 'n_units 0': 26, 'n_units 1': 12, 'n_units 2': 1}. Best is trial 10 with value: 0.3404710920770878.\u001b[0m\n",
      "\u001b[32m[I 2022-10-26 18:18:34,905]\u001b[0m Trial 89 finished with value: 0.9801927194860813 and parameters: {'n_layers': 3, 'n_units 0': 122, 'n_units 1': 86, 'n_units 2': 98}. Best is trial 10 with value: 0.3404710920770878.\u001b[0m\n",
      "\u001b[32m[I 2022-10-26 18:18:55,871]\u001b[0m Trial 90 finished with value: 0.9753747323340471 and parameters: {'n_layers': 3, 'n_units 0': 12, 'n_units 1': 6, 'n_units 2': 57}. Best is trial 10 with value: 0.3404710920770878.\u001b[0m\n",
      "/home/sanjeev/anaconda3/lib/python3.7/site-packages/sklearn/neural_network/_multilayer_perceptron.py:696: ConvergenceWarning: Stochastic Optimizer: Maximum iterations (200) reached and the optimization hasn't converged yet.\n",
      "  ConvergenceWarning,\n",
      "\u001b[32m[I 2022-10-26 18:19:33,327]\u001b[0m Trial 91 finished with value: 0.7735546038543897 and parameters: {'n_layers': 3, 'n_units 0': 6, 'n_units 1': 62, 'n_units 2': 4}. Best is trial 10 with value: 0.3404710920770878.\u001b[0m\n",
      "\u001b[32m[I 2022-10-26 18:19:48,732]\u001b[0m Trial 92 finished with value: 0.3404710920770878 and parameters: {'n_layers': 3, 'n_units 0': 1, 'n_units 1': 70, 'n_units 2': 1}. Best is trial 10 with value: 0.3404710920770878.\u001b[0m\n",
      "\u001b[32m[I 2022-10-26 18:20:16,113]\u001b[0m Trial 93 finished with value: 0.9748394004282656 and parameters: {'n_layers': 3, 'n_units 0': 9, 'n_units 1': 105, 'n_units 2': 12}. Best is trial 10 with value: 0.3404710920770878.\u001b[0m\n",
      "\u001b[32m[I 2022-10-26 18:20:52,116]\u001b[0m Trial 94 finished with value: 0.9528907922912205 and parameters: {'n_layers': 3, 'n_units 0': 3, 'n_units 1': 102, 'n_units 2': 5}. Best is trial 10 with value: 0.3404710920770878.\u001b[0m\n"
     ]
    },
    {
     "name": "stderr",
     "output_type": "stream",
     "text": [
      "\u001b[32m[I 2022-10-26 18:21:34,495]\u001b[0m Trial 95 finished with value: 0.9550321199143469 and parameters: {'n_layers': 3, 'n_units 0': 6, 'n_units 1': 3, 'n_units 2': 23}. Best is trial 10 with value: 0.3404710920770878.\u001b[0m\n",
      "\u001b[32m[I 2022-10-26 18:21:49,995]\u001b[0m Trial 96 finished with value: 0.9812633832976445 and parameters: {'n_layers': 3, 'n_units 0': 22, 'n_units 1': 109, 'n_units 2': 13}. Best is trial 10 with value: 0.3404710920770878.\u001b[0m\n",
      "\u001b[32m[I 2022-10-26 18:22:01,833]\u001b[0m Trial 97 finished with value: 0.9807280513918629 and parameters: {'n_layers': 2, 'n_units 0': 13, 'n_units 1': 8}. Best is trial 10 with value: 0.3404710920770878.\u001b[0m\n",
      "/home/sanjeev/anaconda3/lib/python3.7/site-packages/sklearn/neural_network/_multilayer_perceptron.py:696: ConvergenceWarning: Stochastic Optimizer: Maximum iterations (200) reached and the optimization hasn't converged yet.\n",
      "  ConvergenceWarning,\n",
      "\u001b[32m[I 2022-10-26 18:22:30,177]\u001b[0m Trial 98 finished with value: 0.5952890792291221 and parameters: {'n_layers': 3, 'n_units 0': 2, 'n_units 1': 14, 'n_units 2': 1}. Best is trial 10 with value: 0.3404710920770878.\u001b[0m\n",
      "/home/sanjeev/anaconda3/lib/python3.7/site-packages/sklearn/neural_network/_multilayer_perceptron.py:696: ConvergenceWarning: Stochastic Optimizer: Maximum iterations (200) reached and the optimization hasn't converged yet.\n",
      "  ConvergenceWarning,\n",
      "\u001b[32m[I 2022-10-26 18:23:14,792]\u001b[0m Trial 99 finished with value: 0.6729122055674518 and parameters: {'n_layers': 3, 'n_units 0': 1, 'n_units 1': 124, 'n_units 2': 8}. Best is trial 10 with value: 0.3404710920770878.\u001b[0m\n"
     ]
    },
    {
     "name": "stdout",
     "output_type": "stream",
     "text": [
      "CPU times: user 9h 32min 5s, sys: 12h 16min 31s, total: 21h 48min 36s\n",
      "Wall time: 35min 52s\n"
     ]
    }
   ],
   "source": [
    "%%time\n",
    "study = optuna.create_study()\n",
    "study.optimize(objective, n_trials=100)"
   ]
  },
  {
   "cell_type": "code",
   "execution_count": 84,
   "metadata": {},
   "outputs": [],
   "source": [
    "X_train, X_test, y_train, y_test = train_test_split(arr, label, test_size=0.20, random_state=31)"
   ]
  },
  {
   "cell_type": "code",
   "execution_count": 68,
   "metadata": {},
   "outputs": [
    {
     "name": "stdout",
     "output_type": "stream",
     "text": [
      "X_train shape = (7471, 985)\n",
      "X_test shape = (1868, 985)\n",
      "y_train shape = (7471,)\n",
      "y_test shape = (1868,)\n"
     ]
    }
   ],
   "source": [
    "print(\"X_train shape =\", X_train.shape)\n",
    "print(\"X_test shape =\", X_test.shape)\n",
    "print(\"y_train shape =\", y_train.shape)\n",
    "print(\"y_test shape =\", y_test.shape)"
   ]
  },
  {
   "cell_type": "code",
   "execution_count": 30,
   "metadata": {},
   "outputs": [
    {
     "name": "stdout",
     "output_type": "stream",
     "text": [
      "CPU times: user 4min 23s, sys: 4min 21s, total: 8min 45s\n",
      "Wall time: 13.5 s\n"
     ]
    },
    {
     "data": {
      "text/plain": [
       "MLPClassifier(hidden_layer_sizes=(96,), max_iter=500, random_state=31)"
      ]
     },
     "execution_count": 30,
     "metadata": {},
     "output_type": "execute_result"
    }
   ],
   "source": [
    "%%time\n",
    "clf = MLPClassifier(random_state=31, max_iter=500, hidden_layer_sizes=(96,))\n",
    "clf.fit(X_train, y_train)"
   ]
  },
  {
   "cell_type": "code",
   "execution_count": 85,
   "metadata": {},
   "outputs": [
    {
     "name": "stdout",
     "output_type": "stream",
     "text": [
      "CPU times: user 17min 2s, sys: 33min 10s, total: 50min 12s\n",
      "Wall time: 1min 47s\n"
     ]
    },
    {
     "data": {
      "text/plain": [
       "MLPClassifier(hidden_layer_sizes=(1, 119, 3), max_iter=500, random_state=31)"
      ]
     },
     "execution_count": 85,
     "metadata": {},
     "output_type": "execute_result"
    }
   ],
   "source": [
    "%%time\n",
    "clf = MLPClassifier(random_state=31, max_iter=500, hidden_layer_sizes=(1, 119, 3))\n",
    "clf.fit(X_train, y_train)"
   ]
  },
  {
   "cell_type": "code",
   "execution_count": 86,
   "metadata": {},
   "outputs": [
    {
     "name": "stdout",
     "output_type": "stream",
     "text": [
      "Training Accuracy: 64.21\n"
     ]
    }
   ],
   "source": [
    "print(\"Training Accuracy:\", round((clf.score(X_train, y_train) * 100), 2))"
   ]
  },
  {
   "cell_type": "code",
   "execution_count": 87,
   "metadata": {},
   "outputs": [
    {
     "name": "stdout",
     "output_type": "stream",
     "text": [
      "Testing Accuracy: 62.31\n"
     ]
    }
   ],
   "source": [
    "print(\"Testing Accuracy:\", round((clf.score(X_test, y_test) * 100), 2))"
   ]
  },
  {
   "cell_type": "code",
   "execution_count": 50,
   "metadata": {},
   "outputs": [
    {
     "name": "stdout",
     "output_type": "stream",
     "text": [
      "CPU times: user 314 ms, sys: 0 ns, total: 314 ms\n",
      "Wall time: 14.2 ms\n"
     ]
    }
   ],
   "source": [
    "%%time\n",
    "y_pred = clf.predict(X_test)"
   ]
  },
  {
   "cell_type": "code",
   "execution_count": 51,
   "metadata": {},
   "outputs": [
    {
     "name": "stdout",
     "output_type": "stream",
     "text": [
      "98 98 98\n",
      "CPU times: user 3.26 ms, sys: 4.13 ms, total: 7.39 ms\n",
      "Wall time: 6.26 ms\n"
     ]
    }
   ],
   "source": [
    "%%time\n",
    "ls = precision_recall_fscore_support(y_test, y_pred, average='micro')\n",
    "print(int(round(ls[0]*100, 0)), int(round(ls[1]*100, 0)), int(round(ls[2]*100, 0)))"
   ]
  },
  {
   "cell_type": "code",
   "execution_count": 53,
   "metadata": {},
   "outputs": [
    {
     "name": "stdout",
     "output_type": "stream",
     "text": [
      "CPU times: user 13min 37s, sys: 10min 7s, total: 23min 44s\n",
      "Wall time: 38.7 s\n"
     ]
    },
    {
     "data": {
      "text/plain": [
       "98.22"
      ]
     },
     "execution_count": 53,
     "metadata": {},
     "output_type": "execute_result"
    }
   ],
   "source": [
    "%%time\n",
    "score = cross_val_score(clf, X, label, cv=5)\n",
    "round(np.mean(score)*100, 2)"
   ]
  },
  {
   "cell_type": "code",
   "execution_count": 54,
   "metadata": {},
   "outputs": [
    {
     "name": "stdout",
     "output_type": "stream",
     "text": [
      "Plotting the confusion matrix\n"
     ]
    },
    {
     "data": {
      "image/png": "[encoded data removed]",
      "text/plain": [
       "<Figure size 720x576 with 2 Axes>"
      ]
     },
     "metadata": {
      "needs_background": "light"
     },
     "output_type": "display_data"
    }
   ],
   "source": [
    "conf_matrix = confusion_matrix(y_test, y_pred)\n",
    "\n",
    "print(\"Plotting the confusion matrix\")\n",
    "conf_mat = np.around(conf_matrix, decimals=2)  \n",
    "figure = plt.gcf()\n",
    "figure.set_size_inches(10, 8)\n",
    "plt.imshow(conf_mat, interpolation='nearest', cmap='Pastel1')\n",
    "\n",
    "for row in range(len(list_fams)):\n",
    "    for col in range(len(list_fams)):\n",
    "        plt.annotate(str(conf_mat[row][col]), xy=(col,row), ha='center', va='top', fontsize=8)\n",
    "        \n",
    "plt.xticks(range(len(list_fams)), list_fams, rotation=90, fontsize=10)\n",
    "plt.yticks(range(len(list_fams)+1), list_fams, fontsize=10)\n",
    "\n",
    "plt.ylabel('True label')\n",
    "plt.xlabel('Predicted label')\n",
    "\n",
    "plt.tight_layout()\n",
    "plt.colorbar()\n",
    "# plt.savefig(\"/home/sanjeev/DL_Exp_Kajal/Finetune_stack_features/MalImg/Plots_malimg/Finetuned_plots/mlp_cm_corr.eps\", bbox_inches='tight')\n",
    "# plt.savefig(\"/home/sanjeev/DL_Exp_Kajal/Finetune_stack_features/MalImg/Plots_malimg/Finetuned_plots/mlp_cm_corr.png\", bbox_inches='tight')\n",
    "\n",
    "plt.show()"
   ]
  },
  {
   "cell_type": "code",
   "execution_count": 55,
   "metadata": {},
   "outputs": [
    {
     "name": "stdout",
     "output_type": "stream",
     "text": [
      "                precision    recall  f1-score   support\n",
      "\n",
      "     Adialer.C       1.00      1.00      1.00        25\n",
      "     Agent.FYI       1.00      1.00      1.00        27\n",
      "     Allaple.A       1.00      1.00      1.00       636\n",
      "     Allaple.L       1.00      1.00      1.00       293\n",
      " Alueron.gen!J       1.00      1.00      1.00        44\n",
      "     Autorun.K       1.00      1.00      1.00        18\n",
      "   C2LOP.gen!g       0.95      0.95      0.95        44\n",
      "       C2LOP.P       0.78      0.78      0.78        23\n",
      "Dialplatform.B       1.00      1.00      1.00        37\n",
      "     Dontovo.A       1.00      1.00      1.00        35\n",
      "      Fakerean       1.00      0.96      0.98        85\n",
      " Instantaccess       1.00      1.00      1.00        74\n",
      "    Lolyda.AA1       1.00      1.00      1.00        39\n",
      "    Lolyda.AA2       0.97      1.00      0.99        37\n",
      "    Lolyda.AA3       1.00      1.00      1.00        20\n",
      "     Lolyda.AT       1.00      1.00      1.00        30\n",
      "   Malex.gen!J       1.00      0.97      0.98        29\n",
      " Obfuscator.AD       1.00      1.00      1.00        28\n",
      "      Rbot!gen       1.00      1.00      1.00        37\n",
      "    Skintrim.N       1.00      1.00      1.00         7\n",
      " Swizzor.gen!E       0.68      0.41      0.51        32\n",
      " Swizzor.gen!I       0.33      0.58      0.42        19\n",
      "         VB.AT       1.00      1.00      1.00        81\n",
      "    Wintrim.BX       0.96      0.96      0.96        26\n",
      "       Yuner.A       1.00      1.00      1.00       142\n",
      "\n",
      "      accuracy                           0.98      1868\n",
      "     macro avg       0.95      0.94      0.94      1868\n",
      "  weighted avg       0.98      0.98      0.98      1868\n",
      "\n"
     ]
    }
   ],
   "source": [
    "classification_metrices = metrics.classification_report(y_test, y_pred, target_names=list_fams)\n",
    "print(classification_metrices)"
   ]
  },
  {
   "cell_type": "code",
   "execution_count": 26,
   "metadata": {},
   "outputs": [],
   "source": [
    "# classification_metrices = metrics.classification_report(y_test, y_pred, output_dict=True, target_names= list_fams)\n",
    "# df = pd.DataFrame(classification_metrices).transpose()\n",
    "# df.to_csv('/home/sanjeev/DL_Exp_Kajal/Finetune_stack_features/MalImg/Plots_malimg/Finetuned_plots/mlp_cr_corr.csv')"
   ]
  },
  {
   "cell_type": "code",
   "execution_count": 56,
   "metadata": {},
   "outputs": [
    {
     "name": "stdout",
     "output_type": "stream",
     "text": [
      "micro_precision : 0.9791220556745182\n",
      "micro_recall : 0.9791220556745182\n",
      "micro_f1_score : 0.9791220556745182\n"
     ]
    }
   ],
   "source": [
    "print(\"micro_precision :\", metrics.precision_score(y_test, y_pred, average='micro'))\n",
    "print(\"micro_recall :\", metrics.recall_score(y_test, y_pred, average='micro'))\n",
    "print(\"micro_f1_score :\", metrics.f1_score(y_test, y_pred, average='micro'))"
   ]
  },
  {
   "cell_type": "code",
   "execution_count": 57,
   "metadata": {},
   "outputs": [
    {
     "name": "stdout",
     "output_type": "stream",
     "text": [
      "macro_precision : 0.9474714354269314\n",
      "macro_recall : 0.9445645241555758\n",
      "macro_f1_score : 0.9432464933132073\n"
     ]
    }
   ],
   "source": [
    "print(\"macro_precision :\", metrics.precision_score(y_test, y_pred, average='macro'))\n",
    "print(\"macro_recall :\", metrics.recall_score(y_test, y_pred, average='macro'))\n",
    "print(\"macro_f1_score :\", metrics.f1_score(y_test, y_pred, average='macro'))"
   ]
  },
  {
   "cell_type": "code",
   "execution_count": 58,
   "metadata": {},
   "outputs": [
    {
     "name": "stdout",
     "output_type": "stream",
     "text": [
      "weighted_precision : 0.9819382524397156\n",
      "weighted_recall : 0.9791220556745182\n",
      "weighted_f1_score : 0.9795635468503364\n"
     ]
    }
   ],
   "source": [
    "print(\"weighted_precision :\", metrics.precision_score(y_test, y_pred, average='weighted'))\n",
    "print(\"weighted_recall :\", metrics.recall_score(y_test, y_pred, average='weighted'))\n",
    "print(\"weighted_f1_score :\", metrics.f1_score(y_test, y_pred, average='weighted'))"
   ]
  },
  {
   "cell_type": "code",
   "execution_count": 70,
   "metadata": {},
   "outputs": [],
   "source": [
    "y_test = y_test.toarray()\n",
    "y_pred = y_pred.toarray()"
   ]
  },
  {
   "cell_type": "code",
   "execution_count": 71,
   "metadata": {},
   "outputs": [],
   "source": [
    "enc = OneHotEncoder()\n",
    "enc.fit(y_train.reshape(-1, 1))  \n",
    "y_test = enc.transform(y_test.reshape(-1, 1))\n",
    "y_pred = enc.transform(y_pred.reshape(-1, 1))"
   ]
  },
  {
   "cell_type": "code",
   "execution_count": 76,
   "metadata": {},
   "outputs": [],
   "source": [
    "y_test = y_test.toarray()\n",
    "y_pred = y_pred.toarray()"
   ]
  },
  {
   "cell_type": "code",
   "execution_count": 77,
   "metadata": {},
   "outputs": [
    {
     "name": "stderr",
     "output_type": "stream",
     "text": [
      "/home/sanjeev/anaconda3/lib/python3.7/site-packages/sklearn/metrics/_ranking.py:1001: UndefinedMetricWarning: No positive samples in y_true, true positive value should be meaningless\n",
      "  UndefinedMetricWarning,\n",
      "/home/sanjeev/anaconda3/lib/python3.7/site-packages/sklearn/metrics/_ranking.py:1001: UndefinedMetricWarning: No positive samples in y_true, true positive value should be meaningless\n",
      "  UndefinedMetricWarning,\n",
      "/home/sanjeev/anaconda3/lib/python3.7/site-packages/sklearn/metrics/_ranking.py:1001: UndefinedMetricWarning: No positive samples in y_true, true positive value should be meaningless\n",
      "  UndefinedMetricWarning,\n",
      "/home/sanjeev/anaconda3/lib/python3.7/site-packages/sklearn/metrics/_ranking.py:1001: UndefinedMetricWarning: No positive samples in y_true, true positive value should be meaningless\n",
      "  UndefinedMetricWarning,\n",
      "/home/sanjeev/anaconda3/lib/python3.7/site-packages/sklearn/metrics/_ranking.py:1001: UndefinedMetricWarning: No positive samples in y_true, true positive value should be meaningless\n",
      "  UndefinedMetricWarning,\n",
      "/home/sanjeev/anaconda3/lib/python3.7/site-packages/sklearn/metrics/_ranking.py:1001: UndefinedMetricWarning: No positive samples in y_true, true positive value should be meaningless\n",
      "  UndefinedMetricWarning,\n",
      "/home/sanjeev/anaconda3/lib/python3.7/site-packages/sklearn/metrics/_ranking.py:1001: UndefinedMetricWarning: No positive samples in y_true, true positive value should be meaningless\n",
      "  UndefinedMetricWarning,\n",
      "/home/sanjeev/anaconda3/lib/python3.7/site-packages/sklearn/metrics/_ranking.py:1001: UndefinedMetricWarning: No positive samples in y_true, true positive value should be meaningless\n",
      "  UndefinedMetricWarning,\n",
      "/home/sanjeev/anaconda3/lib/python3.7/site-packages/sklearn/metrics/_ranking.py:1001: UndefinedMetricWarning: No positive samples in y_true, true positive value should be meaningless\n",
      "  UndefinedMetricWarning,\n",
      "/home/sanjeev/anaconda3/lib/python3.7/site-packages/sklearn/metrics/_ranking.py:1001: UndefinedMetricWarning: No positive samples in y_true, true positive value should be meaningless\n",
      "  UndefinedMetricWarning,\n",
      "/home/sanjeev/anaconda3/lib/python3.7/site-packages/sklearn/metrics/_ranking.py:1001: UndefinedMetricWarning: No positive samples in y_true, true positive value should be meaningless\n",
      "  UndefinedMetricWarning,\n",
      "/home/sanjeev/anaconda3/lib/python3.7/site-packages/sklearn/metrics/_ranking.py:1001: UndefinedMetricWarning: No positive samples in y_true, true positive value should be meaningless\n",
      "  UndefinedMetricWarning,\n",
      "/home/sanjeev/anaconda3/lib/python3.7/site-packages/sklearn/metrics/_ranking.py:1001: UndefinedMetricWarning: No positive samples in y_true, true positive value should be meaningless\n",
      "  UndefinedMetricWarning,\n",
      "/home/sanjeev/anaconda3/lib/python3.7/site-packages/sklearn/metrics/_ranking.py:1001: UndefinedMetricWarning: No positive samples in y_true, true positive value should be meaningless\n",
      "  UndefinedMetricWarning,\n",
      "/home/sanjeev/anaconda3/lib/python3.7/site-packages/sklearn/metrics/_ranking.py:1001: UndefinedMetricWarning: No positive samples in y_true, true positive value should be meaningless\n",
      "  UndefinedMetricWarning,\n",
      "/home/sanjeev/anaconda3/lib/python3.7/site-packages/sklearn/metrics/_ranking.py:1001: UndefinedMetricWarning: No positive samples in y_true, true positive value should be meaningless\n",
      "  UndefinedMetricWarning,\n",
      "/home/sanjeev/anaconda3/lib/python3.7/site-packages/sklearn/metrics/_ranking.py:1001: UndefinedMetricWarning: No positive samples in y_true, true positive value should be meaningless\n",
      "  UndefinedMetricWarning,\n",
      "/home/sanjeev/anaconda3/lib/python3.7/site-packages/sklearn/metrics/_ranking.py:1001: UndefinedMetricWarning: No positive samples in y_true, true positive value should be meaningless\n",
      "  UndefinedMetricWarning,\n",
      "/home/sanjeev/anaconda3/lib/python3.7/site-packages/sklearn/metrics/_ranking.py:1001: UndefinedMetricWarning: No positive samples in y_true, true positive value should be meaningless\n",
      "  UndefinedMetricWarning,\n",
      "/home/sanjeev/anaconda3/lib/python3.7/site-packages/sklearn/metrics/_ranking.py:1001: UndefinedMetricWarning: No positive samples in y_true, true positive value should be meaningless\n",
      "  UndefinedMetricWarning,\n",
      "/home/sanjeev/anaconda3/lib/python3.7/site-packages/sklearn/metrics/_ranking.py:1001: UndefinedMetricWarning: No positive samples in y_true, true positive value should be meaningless\n",
      "  UndefinedMetricWarning,\n",
      "/home/sanjeev/anaconda3/lib/python3.7/site-packages/sklearn/metrics/_ranking.py:1001: UndefinedMetricWarning: No positive samples in y_true, true positive value should be meaningless\n",
      "  UndefinedMetricWarning,\n",
      "/home/sanjeev/anaconda3/lib/python3.7/site-packages/sklearn/metrics/_ranking.py:1001: UndefinedMetricWarning: No positive samples in y_true, true positive value should be meaningless\n",
      "  UndefinedMetricWarning,\n"
     ]
    }
   ],
   "source": [
    "n_classes = 25\n",
    "\n",
    "# Compute ROC curve and ROC area for each class\n",
    "fpr = dict()\n",
    "tpr = dict()\n",
    "roc_auc = dict()\n",
    "for i in range(n_classes):\n",
    "    fpr[i], tpr[i], _ = roc_curve(y_test[:, i], y_pred[:, i])\n",
    "    roc_auc[i] = auc(fpr[i], tpr[i])\n",
    "\n",
    "# Compute micro-average ROC curve and ROC area\n",
    "fpr[\"micro\"], tpr[\"micro\"], _ = roc_curve(y_test.ravel(), y_pred.ravel())\n",
    "roc_auc[\"micro\"] = auc(fpr[\"micro\"], tpr[\"micro\"])"
   ]
  },
  {
   "cell_type": "code",
   "execution_count": 78,
   "metadata": {},
   "outputs": [
    {
     "data": {
      "image/png": "[encoded data removed]",
      "text/plain": [
       "<Figure size 576x360 with 1 Axes>"
      ]
     },
     "metadata": {
      "needs_background": "light"
     },
     "output_type": "display_data"
    }
   ],
   "source": [
    "# Compute macro-average ROC curve and ROC area\n",
    "\n",
    "n_classes = 25\n",
    "# First aggregate all false positive rates\n",
    "all_fpr = np.unique(np.concatenate([fpr[i] for i in range(n_classes)]))\n",
    "\n",
    "# Then interpolate all ROC curves at this points\n",
    "mean_tpr = np.zeros_like(all_fpr)\n",
    "for i in range(n_classes):\n",
    "    mean_tpr += interp(all_fpr, fpr[i], tpr[i])\n",
    "\n",
    "# Finally average it and compute AUC\n",
    "mean_tpr /= n_classes\n",
    "\n",
    "fpr[\"macro\"] = all_fpr\n",
    "tpr[\"macro\"] = mean_tpr\n",
    "roc_auc[\"macro\"] = auc(fpr[\"macro\"], tpr[\"macro\"])\n",
    "\n",
    "# Plot all ROC curves\n",
    "lw = 2.5   # line width\n",
    "plt.figure(figsize=(8,5))\n",
    "\n",
    "colors = cycle(['aqua', 'darkorange', 'cornflowerblue', 'lightgreen', 'green', 'red', 'cyan', 'blue', \n",
    "                 'pink', 'purple', 'brown', 'coral', 'chocolate', 'indigo', 'navy'])\n",
    "\n",
    "for i, color in zip(range(n_classes), colors):\n",
    "    plt.plot(fpr[i], tpr[i], color=color, linestyle='dashed', lw=lw,\n",
    "             label='ROC curve of class {0} (area = {1:0.2f})'\n",
    "             ''.format(i, roc_auc[i]))\n",
    "\n",
    "plt.xscale(\"log\")\n",
    "plt.xlabel('False Positive Rate (in log scale)', fontsize=11)\n",
    "plt.ylabel('True Positive Rate', fontsize=11)\n",
    "# plt.savefig(\"/home/sanjeev/DL_Exp_Kajal/Finetune_stack_features/MalImg/Plots_malimg/Finetuned_plots/mlp_roc_corr.eps\", bbox_inches='tight')\n",
    "# plt.savefig(\"/home/sanjeev/DL_Exp_Kajal/Finetune_stack_features/MalImg/Plots_malimg/Finetuned_plots/mlp_roc_corr.png\", bbox_inches='tight')\n",
    "\n",
    "plt.show()"
   ]
  }
 ],
 "metadata": {
  "kernelspec": {
   "display_name": "Python 3",
   "language": "python",
   "name": "python3"
  },
  "language_info": {
   "codemirror_mode": {
    "name": "ipython",
    "version": 3
   },
   "file_extension": ".py",
   "mimetype": "text/x-python",
   "name": "python",
   "nbconvert_exporter": "python",
   "pygments_lexer": "ipython3",
   "version": "3.7.4"
  }
 },
 "nbformat": 4,
 "nbformat_minor": 2
}
