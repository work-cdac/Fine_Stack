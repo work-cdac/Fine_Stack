{
 "cells": [
  {
   "cell_type": "code",
   "execution_count": 1,
   "metadata": {},
   "outputs": [],
   "source": [
    "#importing required libraries\n",
    "import os\n",
    "import glob\n",
    "import time\n",
    "import numpy as np\n",
    "import pandas as pd\n",
    "import matplotlib.pyplot as plt\n",
    " \n",
    "#importing keras libraries\n",
    "import tensorflow as tf\n",
    "import keras\n",
    "from keras.models import Model, Sequential\n",
    "from tensorflow.keras.applications.resnet50 import ResNet50\n",
    "from keras.applications.imagenet_utils import preprocess_input\n",
    "from keras.preprocessing.image import load_img, img_to_array\n",
    "from keras.layers import Dense, Activation ,Flatten, Conv2D, MaxPool2D\n",
    "\n",
    "#importing sklearn libraries\n",
    "from sklearn.model_selection import train_test_split\n",
    "from sklearn import metrics\n",
    "from sklearn.metrics import precision_recall_fscore_support\n",
    "from sklearn.model_selection import cross_val_score"
   ]
  },
  {
   "cell_type": "code",
   "execution_count": 2,
   "metadata": {},
   "outputs": [],
   "source": [
    "#directory path for full dataset\n",
    "imagedir =\"/home/sanjeev/DL_POC/MlaImg_Data/Malimg_data/\""
   ]
  },
  {
   "cell_type": "code",
   "execution_count": 3,
   "metadata": {},
   "outputs": [
    {
     "name": "stdout",
     "output_type": "stream",
     "text": [
      "Label: 0\tFamily:       Adialer.C\tNumber of images: 122\n",
      "Label: 1\tFamily:       Agent.FYI\tNumber of images: 116\n",
      "Label: 2\tFamily:       Allaple.A\tNumber of images: 2949\n",
      "Label: 3\tFamily:       Allaple.L\tNumber of images: 1591\n",
      "Label: 4\tFamily:   Alueron.gen!J\tNumber of images: 198\n",
      "Label: 5\tFamily:       Autorun.K\tNumber of images: 106\n",
      "Label: 6\tFamily:     C2LOP.gen!g\tNumber of images: 200\n",
      "Label: 7\tFamily:         C2LOP.P\tNumber of images: 146\n",
      "Label: 8\tFamily:  Dialplatform.B\tNumber of images: 177\n",
      "Label: 9\tFamily:       Dontovo.A\tNumber of images: 162\n",
      "Label:10\tFamily:        Fakerean\tNumber of images: 381\n",
      "Label:11\tFamily:   Instantaccess\tNumber of images: 431\n",
      "Label:12\tFamily:      Lolyda.AA1\tNumber of images: 213\n",
      "Label:13\tFamily:      Lolyda.AA2\tNumber of images: 184\n",
      "Label:14\tFamily:      Lolyda.AA3\tNumber of images: 123\n",
      "Label:15\tFamily:       Lolyda.AT\tNumber of images: 159\n",
      "Label:16\tFamily:     Malex.gen!J\tNumber of images: 136\n",
      "Label:17\tFamily:   Obfuscator.AD\tNumber of images: 142\n",
      "Label:18\tFamily:        Rbot!gen\tNumber of images: 158\n",
      "Label:19\tFamily:      Skintrim.N\tNumber of images: 80\n",
      "Label:20\tFamily:   Swizzor.gen!E\tNumber of images: 128\n",
      "Label:21\tFamily:   Swizzor.gen!I\tNumber of images: 132\n",
      "Label:22\tFamily:           VB.AT\tNumber of images: 408\n",
      "Label:23\tFamily:      Wintrim.BX\tNumber of images: 97\n",
      "Label:24\tFamily:         Yuner.A\tNumber of images: 800\n"
     ]
    }
   ],
   "source": [
    "cur_dir = os.getcwd()\n",
    "os.chdir(imagedir)  # the parent folder with sub-folders\n",
    "\n",
    "# Get number of samples per family\n",
    "list_fams = sorted(os.listdir(os.getcwd()), key=str.lower)  # vector of strings with family names\n",
    "no_imgs = []  # No. of samples per family\n",
    "for i in range(len(list_fams)):\n",
    "    os.chdir(list_fams[i])\n",
    "    len1 = len(glob.glob('*.png'))  # assuming the images are stored as 'png'\n",
    "    no_imgs.append(len1)\n",
    "    os.chdir('..')\n",
    "num_samples = np.sum(no_imgs)  # total number of all samples\n",
    "\n",
    "# Compute the labels\n",
    "y = np.zeros(num_samples)\n",
    "pos = 0\n",
    "label = 0\n",
    "for i in no_imgs:\n",
    "    print (\"Label:%2d\\tFamily: %15s\\tNumber of images: %d\" % (label, list_fams[label], i))\n",
    "    for j in range(i):\n",
    "        y[pos] = label\n",
    "        pos += 1\n",
    "    label += 1\n",
    "num_classes = label"
   ]
  },
  {
   "cell_type": "code",
   "execution_count": null,
   "metadata": {},
   "outputs": [
    {
     "name": "stdout",
     "output_type": "stream",
     "text": [
      "Processing images...\n"
     ]
    }
   ],
   "source": [
    "width, height, channels = (224, 224, 3) #image input shape\n",
    "X = np.zeros((num_samples, width, height, channels))\n",
    "cnt = 0\n",
    "paths_list = []\n",
    "print(\"Processing images...\")\n",
    "for i in range(len(list_fams)):\n",
    "    for img_file in glob.glob(list_fams[i]+'/*.png'):\n",
    "        paths_list.append(os.path.join(os.getcwd(),img_file))\n",
    "        img = load_img(img_file, target_size=(224, 224))\n",
    "        x = img_to_array(img) #image to array\n",
    "        x = np.expand_dims(x, axis=0)\n",
    "        x = preprocess_input(x)\n",
    "        X[cnt] = x\n",
    "        cnt += 1\n",
    "print(\"Images processed: %d\" %(cnt))"
   ]
  },
  {
   "cell_type": "code",
   "execution_count": null,
   "metadata": {},
   "outputs": [],
   "source": [
    "X.shape, y.shape"
   ]
  },
  {
   "cell_type": "code",
   "execution_count": null,
   "metadata": {},
   "outputs": [],
   "source": [
    "y"
   ]
  },
  {
   "cell_type": "code",
   "execution_count": 7,
   "metadata": {},
   "outputs": [
    {
     "name": "stdout",
     "output_type": "stream",
     "text": [
      "ResNet's  175  layers are not added to the layer\n",
      "done\n"
     ]
    }
   ],
   "source": [
    "resnet = Sequential()\n",
    "resnet.add(Conv2D(3, (3, 3), padding='same', input_shape=(224, 224, 3)))\n",
    "resnet.add(Activation('relu'))\n",
    "\n",
    "_resnet = ResNet50(include_top = False)\n",
    "\n",
    "counter=0\n",
    "for layer in _resnet.layers:\n",
    "    layer.trainable = False\n",
    "    counter+=1\n",
    "\n",
    "print(\"ResNet's \", counter , \" layers are not added to the layer\")\n",
    "resnet.add(_resnet)\n",
    "print(\"done\")"
   ]
  },
  {
   "cell_type": "code",
   "execution_count": 8,
   "metadata": {},
   "outputs": [],
   "source": [
    "resnet.add(Flatten())\n",
    "resnet.add(Dense(2048,activation='relu'))\n",
    "resnet.add(Dense(256,activation=\"relu\"))\n",
    "\n",
    "resnet.compile(optimizer='adam', loss='categorical_crossentropy', metrics=['accuracy'])"
   ]
  },
  {
   "cell_type": "code",
   "execution_count": 9,
   "metadata": {},
   "outputs": [
    {
     "name": "stdout",
     "output_type": "stream",
     "text": [
      "Model: \"sequential\"\n",
      "_________________________________________________________________\n",
      " Layer (type)                Output Shape              Param #   \n",
      "=================================================================\n",
      " conv2d (Conv2D)             (None, 224, 224, 3)       84        \n",
      "                                                                 \n",
      " activation (Activation)     (None, 224, 224, 3)       0         \n",
      "                                                                 \n",
      " resnet50 (Functional)       (None, None, None, 2048)  23587712  \n",
      "                                                                 \n",
      " flatten (Flatten)           (None, 100352)            0         \n",
      "                                                                 \n",
      " dense (Dense)               (None, 2048)              205522944 \n",
      "                                                                 \n",
      " dense_1 (Dense)             (None, 256)               524544    \n",
      "                                                                 \n",
      "=================================================================\n",
      "Total params: 229,635,284\n",
      "Trainable params: 206,047,572\n",
      "Non-trainable params: 23,587,712\n",
      "_________________________________________________________________\n"
     ]
    }
   ],
   "source": [
    "resnet.summary()"
   ]
  },
  {
   "cell_type": "code",
   "execution_count": 10,
   "metadata": {},
   "outputs": [
    {
     "name": "stdout",
     "output_type": "stream",
     "text": [
      "CPU times: user 56min 27s, sys: 31min 41s, total: 1h 28min 8s\n",
      "Wall time: 6min 38s\n"
     ]
    }
   ],
   "source": [
    "%%time\n",
    "#extracting features\n",
    "features = resnet.predict(X)"
   ]
  },
  {
   "cell_type": "code",
   "execution_count": 11,
   "metadata": {},
   "outputs": [
    {
     "data": {
      "text/plain": [
       "(9339, 256)"
      ]
     },
     "execution_count": 11,
     "metadata": {},
     "output_type": "execute_result"
    }
   ],
   "source": [
    "features.shape"
   ]
  },
  {
   "cell_type": "code",
   "execution_count": 12,
   "metadata": {},
   "outputs": [
    {
     "data": {
      "text/plain": [
       "array([0.        , 0.        , 0.        , 1.0327187 , 1.1973633 ,\n",
       "       0.72626895, 0.        , 1.5041866 , 0.        , 0.48992252,\n",
       "       2.0060582 , 1.7268442 , 2.6737046 , 0.        , 1.9651496 ,\n",
       "       0.        , 0.02529323, 0.        , 0.        , 0.        ,\n",
       "       0.        , 0.        , 0.        , 1.2088978 , 1.2236583 ,\n",
       "       1.5485508 , 0.        , 0.        , 4.5917807 , 1.4690739 ,\n",
       "       0.        , 0.        , 2.7193677 , 3.6129112 , 3.6822972 ,\n",
       "       0.07899919, 0.        , 0.0542469 , 1.961187  , 2.0040092 ,\n",
       "       3.4513123 , 0.719718  , 0.        , 0.        , 0.9477427 ,\n",
       "       1.0457165 , 0.30044454, 4.2065454 , 0.        , 0.        ,\n",
       "       2.9793487 , 2.238452  , 0.13786632, 0.        , 0.        ,\n",
       "       0.8876816 , 0.        , 2.4477117 , 0.83751273, 0.        ,\n",
       "       0.973494  , 0.        , 0.        , 0.        , 3.6554408 ,\n",
       "       0.8282262 , 0.        , 0.50188124, 0.        , 0.        ,\n",
       "       0.        , 7.185652  , 1.1760991 , 0.        , 3.183856  ,\n",
       "       2.0305467 , 0.2549904 , 2.5193527 , 2.0273173 , 0.        ,\n",
       "       0.        , 0.        , 0.        , 0.        , 0.        ,\n",
       "       4.536949  , 2.005459  , 1.7099452 , 0.5111836 , 0.        ,\n",
       "       0.98232186, 2.3616323 , 2.3219213 , 0.        , 0.8314991 ,\n",
       "       0.        , 0.16407084, 0.        , 0.        , 4.3097067 ,\n",
       "       1.8063698 , 0.        , 0.        , 0.        , 1.1123582 ,\n",
       "       0.        , 0.35166574, 2.8125272 , 0.        , 0.        ,\n",
       "       0.        , 0.        , 0.22141635, 0.        , 0.65956634,\n",
       "       2.6036882 , 0.        , 0.        , 4.936574  , 0.7026208 ,\n",
       "       0.        , 0.        , 0.        , 0.        , 3.2083383 ,\n",
       "       0.        , 0.        , 0.32247555, 2.6345859 , 0.        ,\n",
       "       0.        , 0.        , 0.        , 2.97179   , 0.        ,\n",
       "       0.        , 0.        , 0.        , 0.        , 1.7458606 ,\n",
       "       1.1399271 , 1.5351434 , 0.        , 1.4906036 , 0.9592209 ,\n",
       "       1.085468  , 1.665122  , 0.7675303 , 0.        , 1.4218506 ,\n",
       "       3.043174  , 0.        , 0.47524524, 0.1466651 , 0.        ,\n",
       "       4.224477  , 0.        , 0.        , 0.11097538, 0.        ,\n",
       "       0.        , 0.        , 2.111649  , 0.        , 0.        ,\n",
       "       0.31674695, 0.68401444, 4.2653017 , 4.1245604 , 0.28802168,\n",
       "       0.        , 1.8271041 , 0.754673  , 4.4761543 , 0.        ,\n",
       "       1.5239918 , 1.3992072 , 0.        , 0.        , 0.        ,\n",
       "       0.        , 2.452789  , 0.        , 2.1270106 , 0.        ,\n",
       "       3.6818802 , 1.2529125 , 1.2486756 , 0.        , 0.48877317,\n",
       "       1.3239502 , 0.        , 0.        , 2.0941303 , 4.9989586 ,\n",
       "       2.5205884 , 0.4442367 , 0.        , 0.        , 0.        ,\n",
       "       0.        , 2.0013351 , 0.        , 0.        , 0.        ,\n",
       "       2.909765  , 1.5624499 , 0.97419024, 0.        , 0.        ,\n",
       "       1.4806504 , 0.        , 0.        , 0.        , 0.8576082 ,\n",
       "       0.        , 0.        , 4.461375  , 3.8438287 , 0.        ,\n",
       "       0.4628958 , 0.        , 0.15600777, 1.9354556 , 0.        ,\n",
       "       2.8305643 , 0.        , 0.        , 0.4654076 , 0.35281688,\n",
       "       0.        , 0.        , 3.139376  , 2.1413412 , 0.        ,\n",
       "       2.5287638 , 0.        , 0.        , 3.1936305 , 0.        ,\n",
       "       1.9946787 , 0.93247545, 0.        , 0.        , 0.        ,\n",
       "       0.22360575, 0.67218   , 0.8767123 , 3.6138754 , 1.7724087 ,\n",
       "       1.2545938 , 0.        , 1.5886065 , 0.7858039 , 0.        ,\n",
       "       0.21392274], dtype=float32)"
      ]
     },
     "execution_count": 12,
     "metadata": {},
     "output_type": "execute_result"
    }
   ],
   "source": [
    "features[0]"
   ]
  },
  {
   "cell_type": "code",
   "execution_count": 13,
   "metadata": {},
   "outputs": [],
   "source": [
    "#np.save('/home/sanjeev/DL_Exp_Kajal/Finetune_stack_features/MalImg/resnet50_feat_malimg_256.npy', features)"
   ]
  },
  {
   "cell_type": "code",
   "execution_count": 14,
   "metadata": {},
   "outputs": [],
   "source": [
    "from sklearn.svm import SVC\n",
    "from sklearn.neighbors import KNeighborsClassifier\n",
    "from sklearn.neural_network import MLPClassifier\n",
    "from sklearn.ensemble import RandomForestClassifier\n",
    "from sklearn.tree import ExtraTreeClassifier\n",
    "from sklearn.naive_bayes import GaussianNB"
   ]
  },
  {
   "cell_type": "code",
   "execution_count": 15,
   "metadata": {},
   "outputs": [],
   "source": [
    "feat = np.load(\"/home/sanjeev/DL_Exp_Kajal/Finetune_stack_features/MalImg/resnet50_feat_malimg_256.npy\")"
   ]
  },
  {
   "cell_type": "code",
   "execution_count": 16,
   "metadata": {},
   "outputs": [
    {
     "data": {
      "text/plain": [
       "array([ 0.,  0.,  0., ..., 24., 24., 24.])"
      ]
     },
     "execution_count": 16,
     "metadata": {},
     "output_type": "execute_result"
    }
   ],
   "source": [
    "y"
   ]
  },
  {
   "cell_type": "code",
   "execution_count": 17,
   "metadata": {},
   "outputs": [
    {
     "name": "stdout",
     "output_type": "stream",
     "text": [
      "KNeighborsClassifier()\n",
      "(8405, 256) (8405,)\n",
      "(934, 256) (934,)\n",
      "Training Accuracy:  98.37\n",
      "Training Time: 4.0906453132629395 seconds\n",
      "Testing Accuracy:  97.43\n",
      "Testing Time: 0.6123552322387695 seconds\n",
      "Model Accuracy for cross validation: 97.6\n",
      "Precision: 97\n",
      "Recall: 97\n",
      "F1_Score: 97\n",
      "*---------------------------*\n",
      "SVC(random_state=31)\n",
      "(8405, 256) (8405,)\n",
      "(934, 256) (934,)\n",
      "Training Accuracy:  99.12\n",
      "Training Time: 15.284936428070068 seconds\n",
      "Testing Accuracy:  97.537\n",
      "Testing Time: 1.3789393901824951 seconds\n",
      "Model Accuracy for cross validation: 98.02\n",
      "Precision: 98\n",
      "Recall: 98\n",
      "F1_Score: 98\n",
      "*---------------------------*\n",
      "RandomForestClassifier(random_state=31)\n",
      "(8405, 256) (8405,)\n",
      "(934, 256) (934,)\n",
      "Training Accuracy:  100.0\n",
      "Training Time: 14.262691020965576 seconds\n",
      "Testing Accuracy:  97.323\n",
      "Testing Time: 0.07577371597290039 seconds\n",
      "Model Accuracy for cross validation: 97.14\n",
      "Precision: 97\n",
      "Recall: 97\n",
      "F1_Score: 97\n",
      "*---------------------------*\n",
      "MLPClassifier(max_iter=500, random_state=31)\n",
      "(8405, 256) (8405,)\n",
      "(934, 256) (934,)\n",
      "Training Accuracy:  100.0\n",
      "Training Time: 41.39580988883972 seconds\n",
      "Testing Accuracy:  98.073\n",
      "Testing Time: 0.010835409164428711 seconds\n",
      "Model Accuracy for cross validation: 97.86\n",
      "Precision: 98\n",
      "Recall: 98\n",
      "F1_Score: 98\n",
      "*---------------------------*\n",
      "ExtraTreeClassifier(random_state=31)\n",
      "(8405, 256) (8405,)\n",
      "(934, 256) (934,)\n",
      "Training Accuracy:  100.0\n",
      "Training Time: 0.0536806583404541 seconds\n",
      "Testing Accuracy:  87.58\n",
      "Testing Time: 0.0022673606872558594 seconds\n",
      "Model Accuracy for cross validation: 87.3\n",
      "Precision: 88\n",
      "Recall: 88\n",
      "F1_Score: 88\n",
      "*---------------------------*\n",
      "GaussianNB()\n",
      "(8405, 256) (8405,)\n",
      "(934, 256) (934,)\n",
      "Training Accuracy:  79.488\n",
      "Training Time: 0.23540711402893066 seconds\n",
      "Testing Accuracy:  75.696\n",
      "Testing Time: 0.02053213119506836 seconds\n",
      "Model Accuracy for cross validation: 77.66\n",
      "Precision: 76\n",
      "Recall: 76\n",
      "F1_Score: 76\n",
      "*---------------------------*\n",
      "[97.43, 97.537, 97.323, 98.073, 87.58, 75.696, 97, 98, 97, 98, 88, 76, 97, 98, 97, 98, 88, 76, 97, 98, 97, 98, 88, 76, 97.6, 98.02, 97.14, 97.86, 87.3, 77.66]\n"
     ]
    }
   ],
   "source": [
    "#classification model creation using different classifiers\n",
    "def classify(model, x, y):\n",
    "    X_train, X_test, y_train, y_test = train_test_split(x, y, test_size=0.10, random_state=31)\n",
    "    print(X_train.shape, y_train.shape)\n",
    "    print(X_test.shape, y_test.shape)\n",
    "    \n",
    "    start_time = time.time()\n",
    "    \n",
    "    model.fit(X_train, y_train)   \n",
    "    print(\"Training Accuracy: \", round(model.score(X_train, y_train)*100,3))\n",
    "    \n",
    "    end_time = time.time()\n",
    "    training_time = end_time - start_time \n",
    "    print(\"Training Time:\", training_time, \"seconds\")\n",
    "    ###################################################################\n",
    "    start_time = time.time() \n",
    "    print(\"Testing Accuracy: \", round(model.score(X_test, y_test)*100,3))\n",
    "    end_time = time.time()\n",
    "    training_time = end_time - start_time \n",
    "    print(\"Testing Time:\", training_time, \"seconds\")\n",
    "    ####################################################################\n",
    "    acc = round(model.score(X_test, y_test)*100,3)\n",
    "    \n",
    "    score = cross_val_score(model, x, y, cv=5)\n",
    "    print(\"Model Accuracy for cross validation:\", round(np.mean(score)*100, 2))\n",
    "    cv = round(np.mean(score)*100, 2)\n",
    "    \n",
    "    pred = model.predict(X_test)\n",
    "    print('Precision:', int(round(precision_recall_fscore_support(y_test, pred, average='micro')[0]*100, 0)))\n",
    "    print('Recall:', int(round(precision_recall_fscore_support(y_test, pred, average='micro')[1]*100, 0)))\n",
    "    print('F1_Score:', int(round(precision_recall_fscore_support(y_test, pred, average='micro')[2]*100, 0)))\n",
    "    ls = precision_recall_fscore_support(y_test, pred, average='micro')\n",
    "    pre, rec, f1 = int(round(ls[0]*100, 0)), int(round(ls[1]*100, 0)), int(round(ls[2]*100, 0))\n",
    "    print('*---------------------------*')\n",
    "    return [acc, pre, rec, f1, cv]\n",
    "\n",
    "classifiers = [KNeighborsClassifier(),\n",
    "               SVC(random_state=31),\n",
    "               RandomForestClassifier(random_state=31),\n",
    "               MLPClassifier(random_state=31, max_iter=500),\n",
    "               ExtraTreeClassifier(random_state=31),\n",
    "               GaussianNB()]\n",
    "\n",
    "ls_acc, ls_pre, ls_rec, ls_f1, ls_cv = [],[],[],[],[]\n",
    "\n",
    "for classifier in classifiers:\n",
    "    print(classifier)\n",
    "    values = classify(classifier, feat, y)       \n",
    "    \n",
    "    ls_acc.append(values[0])\n",
    "    ls_pre.append(values[1])\n",
    "    ls_rec.append(values[2])\n",
    "    ls_f1.append(values[3])\n",
    "    ls_cv.append(values[4])\n",
    "    \n",
    "print([*ls_acc, *ls_pre, *ls_rec, *ls_f1, *ls_cv])"
   ]
  },
  {
   "cell_type": "code",
   "execution_count": 18,
   "metadata": {},
   "outputs": [],
   "source": [
    "# #classification model creation using different classifiers\n",
    "# def classify(model, x, y):\n",
    "#     X_train, X_test, y_train, y_test = train_test_split(x, y, test_size=0.10, random_state=31)\n",
    "#     print(X_train.shape, y_train.shape)\n",
    "#     print(X_test.shape, y_test.shape)\n",
    "\n",
    "#     model.fit(X_train, y_train)   \n",
    "#     print(\"Training Accuracy: \", round(model.score(X_train, y_train)*100,3))\n",
    "#     print(\"Testing Accuracy: \", round(model.score(X_test, y_test)*100,3))\n",
    "#     acc = round(model.score(X_test, y_test)*100,3)\n",
    "    \n",
    "#     score = cross_val_score(model, x, y, cv=5)\n",
    "#     print(\"Model Accuracy for cross validation:\", round(np.mean(score)*100, 2))\n",
    "#     cv = round(np.mean(score)*100, 2)\n",
    "    \n",
    "#     pred = model.predict(X_test)\n",
    "#     print('Precision:', int(round(precision_recall_fscore_support(y_test, pred, average='micro')[0]*100, 0)))\n",
    "#     print('Recall:', int(round(precision_recall_fscore_support(y_test, pred, average='micro')[1]*100, 0)))\n",
    "#     print('F1_Score:', int(round(precision_recall_fscore_support(y_test, pred, average='micro')[2]*100, 0)))\n",
    "#     ls = precision_recall_fscore_support(y_test, pred, average='micro')\n",
    "#     pre, rec, f1 = int(round(ls[0]*100, 0)), int(round(ls[1]*100, 0)), int(round(ls[2]*100, 0))\n",
    "#     print('*---------------------------*')\n",
    "#     return [acc, pre, rec, f1, cv]\n",
    "\n",
    "# classifiers = [KNeighborsClassifier(),\n",
    "#                SVC(random_state=31),\n",
    "#                RandomForestClassifier(random_state=31),\n",
    "#                MLPClassifier(random_state=31, max_iter=500),\n",
    "#                ExtraTreeClassifier(random_state=31),\n",
    "#                GaussianNB()]\n",
    "\n",
    "# ls_acc, ls_pre, ls_rec, ls_f1, ls_cv = [],[],[],[],[]\n",
    "\n",
    "# for classifier in classifiers:\n",
    "#     print(classifier)\n",
    "#     values = classify(classifier, feat, y)       \n",
    "    \n",
    "#     ls_acc.append(values[0])\n",
    "#     ls_pre.append(values[1])\n",
    "#     ls_rec.append(values[2])\n",
    "#     ls_f1.append(values[3])\n",
    "#     ls_cv.append(values[4])\n",
    "    \n",
    "# print([*ls_acc, *ls_pre, *ls_rec, *ls_f1, *ls_cv])"
   ]
  }
 ],
 "metadata": {
  "kernelspec": {
   "display_name": "Python 3",
   "language": "python",
   "name": "python3"
  },
  "language_info": {
   "codemirror_mode": {
    "name": "ipython",
    "version": 3
   },
   "file_extension": ".py",
   "mimetype": "text/x-python",
   "name": "python",
   "nbconvert_exporter": "python",
   "pygments_lexer": "ipython3",
   "version": "3.7.4"
  }
 },
 "nbformat": 4,
 "nbformat_minor": 2
}
