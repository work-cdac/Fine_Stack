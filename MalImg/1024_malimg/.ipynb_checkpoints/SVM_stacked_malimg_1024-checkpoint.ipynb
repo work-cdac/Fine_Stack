{
 "cells": [
  {
   "cell_type": "code",
   "execution_count": 1,
   "metadata": {},
   "outputs": [],
   "source": [
    "#importing required libraries\n",
    "import os\n",
    "import glob\n",
    "import numpy as np\n",
    "import pandas as pd\n",
    "import matplotlib.pyplot as plt\n",
    "\n",
    "#importing sklearn libraries\n",
    "from sklearn.svm import SVC\n",
    "from sklearn.model_selection import train_test_split\n",
    "from sklearn.preprocessing import OneHotEncoder\n",
    "from sklearn import metrics\n",
    "from sklearn.metrics import accuracy_score, confusion_matrix, roc_curve, auc\n",
    "from sklearn.metrics import precision_recall_fscore_support\n",
    "from sklearn.model_selection import cross_val_score\n",
    "\n",
    "from numpy import interp\n",
    "from itertools import cycle"
   ]
  },
  {
   "cell_type": "code",
   "execution_count": 2,
   "metadata": {},
   "outputs": [],
   "source": [
    "#directory path for full dataset\n",
    "imagedir =\"/home/sanjeev/DL_POC/MlaImg_Data/Malimg_data/\""
   ]
  },
  {
   "cell_type": "code",
   "execution_count": 3,
   "metadata": {},
   "outputs": [
    {
     "name": "stdout",
     "output_type": "stream",
     "text": [
      "Label: 0\tFamily:       Adialer.C\tNumber of images: 122\n",
      "Label: 1\tFamily:       Agent.FYI\tNumber of images: 116\n",
      "Label: 2\tFamily:       Allaple.A\tNumber of images: 2949\n",
      "Label: 3\tFamily:       Allaple.L\tNumber of images: 1591\n",
      "Label: 4\tFamily:   Alueron.gen!J\tNumber of images: 198\n",
      "Label: 5\tFamily:       Autorun.K\tNumber of images: 106\n",
      "Label: 6\tFamily:     C2LOP.gen!g\tNumber of images: 200\n",
      "Label: 7\tFamily:         C2LOP.P\tNumber of images: 146\n",
      "Label: 8\tFamily:  Dialplatform.B\tNumber of images: 177\n",
      "Label: 9\tFamily:       Dontovo.A\tNumber of images: 162\n",
      "Label:10\tFamily:        Fakerean\tNumber of images: 381\n",
      "Label:11\tFamily:   Instantaccess\tNumber of images: 431\n",
      "Label:12\tFamily:      Lolyda.AA1\tNumber of images: 213\n",
      "Label:13\tFamily:      Lolyda.AA2\tNumber of images: 184\n",
      "Label:14\tFamily:      Lolyda.AA3\tNumber of images: 123\n",
      "Label:15\tFamily:       Lolyda.AT\tNumber of images: 159\n",
      "Label:16\tFamily:     Malex.gen!J\tNumber of images: 136\n",
      "Label:17\tFamily:   Obfuscator.AD\tNumber of images: 142\n",
      "Label:18\tFamily:        Rbot!gen\tNumber of images: 158\n",
      "Label:19\tFamily:      Skintrim.N\tNumber of images: 80\n",
      "Label:20\tFamily:   Swizzor.gen!E\tNumber of images: 128\n",
      "Label:21\tFamily:   Swizzor.gen!I\tNumber of images: 132\n",
      "Label:22\tFamily:           VB.AT\tNumber of images: 408\n",
      "Label:23\tFamily:      Wintrim.BX\tNumber of images: 97\n",
      "Label:24\tFamily:         Yuner.A\tNumber of images: 800\n"
     ]
    }
   ],
   "source": [
    "cur_dir = os.getcwd()\n",
    "os.chdir(imagedir)  # the parent folder with sub-folders\n",
    "\n",
    "# Get number of samples per family\n",
    "list_fams = sorted(os.listdir(os.getcwd()), key=str.lower)  # vector of strings with family names\n",
    "no_imgs = []  # No. of samples per family\n",
    "for i in range(len(list_fams)):\n",
    "    os.chdir(list_fams[i])\n",
    "    len1 = len(glob.glob('*.png'))  # assuming the images are stored as 'png'\n",
    "    no_imgs.append(len1)\n",
    "    os.chdir('..')\n",
    "num_samples = np.sum(no_imgs)  # total number of all samples\n",
    "\n",
    "# Compute the labels\n",
    "y = np.zeros(num_samples)\n",
    "pos = 0\n",
    "label = 0\n",
    "for i in no_imgs:\n",
    "    print (\"Label:%2d\\tFamily: %15s\\tNumber of images: %d\" % (label, list_fams[label], i))\n",
    "    for j in range(i):\n",
    "        y[pos] = label\n",
    "        pos += 1\n",
    "    label += 1\n",
    "num_classes = label"
   ]
  },
  {
   "cell_type": "code",
   "execution_count": 4,
   "metadata": {},
   "outputs": [],
   "source": [
    "vgg16 = np.load(\"/home/sanjeev/DL_Exp_Kajal/Finetune_stack_features/MalImg/vgg16_finetuned_feat_malimg_1024.npy\")\n",
    "vgg19 = np.load(\"/home/sanjeev/DL_Exp_Kajal/Finetune_stack_features/MalImg/vgg19_feat_malimg_1024.npy\")\n",
    "res = np.load(\"/home/sanjeev/DL_Exp_Kajal/Finetune_stack_features/MalImg/resnet50_feat_malimg_1024.npy\")\n",
    "incv3 = np.load(\"/home/sanjeev/DL_Exp_Kajal/Finetune_stack_features/MalImg/inceptionV3_feat_malimg_1024.npy\")"
   ]
  },
  {
   "cell_type": "code",
   "execution_count": 5,
   "metadata": {},
   "outputs": [],
   "source": [
    "X = []\n",
    "for i in range(len(vgg16)):\n",
    "    x = list(np.hstack((vgg16[i], vgg19[i], res[i], incv3[i])))\n",
    "    X.append(x)"
   ]
  },
  {
   "cell_type": "code",
   "execution_count": 6,
   "metadata": {},
   "outputs": [
    {
     "data": {
      "text/plain": [
       "(9339, 4096)"
      ]
     },
     "execution_count": 6,
     "metadata": {},
     "output_type": "execute_result"
    }
   ],
   "source": [
    "X =  np.array(X)\n",
    "X.shape"
   ]
  },
  {
   "cell_type": "code",
   "execution_count": 7,
   "metadata": {},
   "outputs": [],
   "source": [
    "X_train, X_test, y_train, y_test = train_test_split(X, y, test_size=0.20, random_state=31)"
   ]
  },
  {
   "cell_type": "code",
   "execution_count": 8,
   "metadata": {},
   "outputs": [
    {
     "name": "stdout",
     "output_type": "stream",
     "text": [
      "X_train shape = (7471, 4096)\n",
      "X_test shape = (1868, 4096)\n",
      "y_train shape = (7471,)\n",
      "y_test shape = (1868,)\n"
     ]
    }
   ],
   "source": [
    "print(\"X_train shape =\", X_train.shape)\n",
    "print(\"X_test shape =\", X_test.shape)\n",
    "print(\"y_train shape =\", y_train.shape)\n",
    "print(\"y_test shape =\", y_test.shape)"
   ]
  },
  {
   "cell_type": "code",
   "execution_count": 9,
   "metadata": {},
   "outputs": [
    {
     "name": "stdout",
     "output_type": "stream",
     "text": [
      "CPU times: user 58.8 s, sys: 577 ms, total: 59.3 s\n",
      "Wall time: 30.2 s\n"
     ]
    },
    {
     "data": {
      "text/plain": [
       "SVC()"
      ]
     },
     "execution_count": 9,
     "metadata": {},
     "output_type": "execute_result"
    }
   ],
   "source": [
    "%%time\n",
    "clf = SVC()\n",
    "clf.fit(X_train, y_train)"
   ]
  },
  {
   "cell_type": "code",
   "execution_count": 10,
   "metadata": {},
   "outputs": [
    {
     "name": "stdout",
     "output_type": "stream",
     "text": [
      "Training Accuracy: 99.32\n"
     ]
    }
   ],
   "source": [
    "print(\"Training Accuracy:\", round((clf.score(X_train, y_train) * 100), 2))"
   ]
  },
  {
   "cell_type": "code",
   "execution_count": 11,
   "metadata": {},
   "outputs": [
    {
     "name": "stdout",
     "output_type": "stream",
     "text": [
      "Testing Accuracy: 98.18\n"
     ]
    }
   ],
   "source": [
    "print(\"Testing Accuracy:\", round((clf.score(X_test, y_test) * 100), 2))"
   ]
  },
  {
   "cell_type": "code",
   "execution_count": 12,
   "metadata": {},
   "outputs": [
    {
     "name": "stdout",
     "output_type": "stream",
     "text": [
      "CPU times: user 55.9 s, sys: 16 ms, total: 55.9 s\n",
      "Wall time: 27.9 s\n"
     ]
    }
   ],
   "source": [
    "%%time\n",
    "y_pred = clf.predict(X_test)"
   ]
  },
  {
   "cell_type": "code",
   "execution_count": 13,
   "metadata": {},
   "outputs": [
    {
     "name": "stdout",
     "output_type": "stream",
     "text": [
      "98 98 98\n",
      "CPU times: user 5.55 ms, sys: 3.66 ms, total: 9.21 ms\n",
      "Wall time: 3.85 ms\n"
     ]
    }
   ],
   "source": [
    "%%time\n",
    "ls = precision_recall_fscore_support(y_test, y_pred, average='micro')\n",
    "print(int(round(ls[0]*100, 0)), int(round(ls[1]*100, 0)), int(round(ls[2]*100, 0)))"
   ]
  },
  {
   "cell_type": "code",
   "execution_count": 14,
   "metadata": {},
   "outputs": [
    {
     "name": "stdout",
     "output_type": "stream",
     "text": [
      "CPU times: user 12min 17s, sys: 1.66 s, total: 12min 18s\n",
      "Wall time: 6min 9s\n"
     ]
    },
    {
     "data": {
      "text/plain": [
       "98.24"
      ]
     },
     "execution_count": 14,
     "metadata": {},
     "output_type": "execute_result"
    }
   ],
   "source": [
    "%%time\n",
    "score = cross_val_score(clf, X, y, cv=5)\n",
    "round(np.mean(score)*100, 2)"
   ]
  },
  {
   "cell_type": "code",
   "execution_count": 15,
   "metadata": {},
   "outputs": [
    {
     "name": "stdout",
     "output_type": "stream",
     "text": [
      "Plotting the confusion matrix\n"
     ]
    },
    {
     "data": {
      "image/png": "[encoded data removed]",
      "text/plain": [
       "<Figure size 720x576 with 2 Axes>"
      ]
     },
     "metadata": {
      "needs_background": "light"
     },
     "output_type": "display_data"
    }
   ],
   "source": [
    "conf_matrix = confusion_matrix(y_test, y_pred)\n",
    "\n",
    "print(\"Plotting the confusion matrix\")\n",
    "conf_mat = np.around(conf_matrix, decimals=2)  \n",
    "figure = plt.gcf()\n",
    "figure.set_size_inches(10, 8)\n",
    "plt.imshow(conf_mat, interpolation='nearest', cmap='Pastel1')\n",
    "\n",
    "for row in range(len(list_fams)):\n",
    "    for col in range(len(list_fams)):\n",
    "        plt.annotate(str(conf_mat[row][col]), xy=(col,row), ha='center', va='top', fontsize=8)\n",
    "        \n",
    "plt.xticks(range(len(list_fams)), list_fams, rotation=90, fontsize=10)\n",
    "plt.yticks(range(len(list_fams)+1), list_fams, fontsize=10)\n",
    "\n",
    "plt.ylabel('True label')\n",
    "plt.xlabel('Predicted label')\n",
    "\n",
    "plt.tight_layout()\n",
    "plt.colorbar()\n",
    "plt.savefig(\"/home/sanjeev/DL_Exp_Kajal/Finetune_stack_features/MalImg/Plots_malimg/1024_malimg_plots/svm_cm_malimg_1024.eps\",\n",
    "            bbox_inches='tight')\n",
    "plt.savefig(\"/home/sanjeev/DL_Exp_Kajal/Finetune_stack_features/MalImg/Plots_malimg/1024_malimg_plots/svm_cm_malimg_1024.png\",\n",
    "            bbox_inches='tight')\n",
    "\n",
    "plt.show()"
   ]
  },
  {
   "cell_type": "code",
   "execution_count": 16,
   "metadata": {},
   "outputs": [
    {
     "name": "stdout",
     "output_type": "stream",
     "text": [
      "                precision    recall  f1-score   support\n",
      "\n",
      "     Adialer.C       1.00      1.00      1.00        25\n",
      "     Agent.FYI       1.00      1.00      1.00        27\n",
      "     Allaple.A       1.00      1.00      1.00       636\n",
      "     Allaple.L       1.00      1.00      1.00       293\n",
      " Alueron.gen!J       1.00      1.00      1.00        44\n",
      "     Autorun.K       1.00      1.00      1.00        18\n",
      "   C2LOP.gen!g       0.93      0.93      0.93        44\n",
      "       C2LOP.P       0.77      0.74      0.76        23\n",
      "Dialplatform.B       1.00      1.00      1.00        37\n",
      "     Dontovo.A       1.00      1.00      1.00        35\n",
      "      Fakerean       1.00      0.98      0.99        85\n",
      " Instantaccess       1.00      1.00      1.00        74\n",
      "    Lolyda.AA1       1.00      1.00      1.00        39\n",
      "    Lolyda.AA2       1.00      1.00      1.00        37\n",
      "    Lolyda.AA3       1.00      1.00      1.00        20\n",
      "     Lolyda.AT       1.00      1.00      1.00        30\n",
      "   Malex.gen!J       1.00      0.97      0.98        29\n",
      " Obfuscator.AD       1.00      1.00      1.00        28\n",
      "      Rbot!gen       1.00      1.00      1.00        37\n",
      "    Skintrim.N       1.00      1.00      1.00         7\n",
      " Swizzor.gen!E       0.73      0.59      0.66        32\n",
      " Swizzor.gen!I       0.37      0.53      0.43        19\n",
      "         VB.AT       1.00      1.00      1.00        81\n",
      "    Wintrim.BX       0.96      1.00      0.98        26\n",
      "       Yuner.A       1.00      1.00      1.00       142\n",
      "\n",
      "      accuracy                           0.98      1868\n",
      "     macro avg       0.95      0.95      0.95      1868\n",
      "  weighted avg       0.98      0.98      0.98      1868\n",
      "\n"
     ]
    }
   ],
   "source": [
    "classification_metrices = metrics.classification_report(y_test, y_pred, target_names=list_fams)\n",
    "print(classification_metrices)"
   ]
  },
  {
   "cell_type": "code",
   "execution_count": 17,
   "metadata": {},
   "outputs": [],
   "source": [
    "classification_metrices = metrics.classification_report(y_test, y_pred, output_dict=True, target_names= list_fams)\n",
    "df = pd.DataFrame(classification_metrices).transpose()\n",
    "df.to_csv('/home/sanjeev/DL_Exp_Kajal/Finetune_stack_features/MalImg/Plots_malimg/1024_malimg_plots/svm_cr_malimg_1024.csv')"
   ]
  },
  {
   "cell_type": "code",
   "execution_count": 18,
   "metadata": {},
   "outputs": [
    {
     "name": "stdout",
     "output_type": "stream",
     "text": [
      "micro_precision : 0.9817987152034261\n",
      "micro_recall : 0.9817987152034261\n",
      "micro_f1_score : 0.9817987152034261\n"
     ]
    }
   ],
   "source": [
    "print(\"micro_precision :\", metrics.precision_score(y_test, y_pred, average='micro'))\n",
    "print(\"micro_recall :\", metrics.recall_score(y_test, y_pred, average='micro'))\n",
    "print(\"micro_f1_score :\", metrics.f1_score(y_test, y_pred, average='micro'))"
   ]
  },
  {
   "cell_type": "code",
   "execution_count": 19,
   "metadata": {},
   "outputs": [
    {
     "name": "stdout",
     "output_type": "stream",
     "text": [
      "macro_precision : 0.950683126397412\n",
      "macro_recall : 0.9493200894275631\n",
      "macro_f1_score : 0.9491290667130347\n"
     ]
    }
   ],
   "source": [
    "print(\"macro_precision :\", metrics.precision_score(y_test, y_pred, average='macro'))\n",
    "print(\"macro_recall :\", metrics.recall_score(y_test, y_pred, average='macro'))\n",
    "print(\"macro_f1_score :\", metrics.f1_score(y_test, y_pred, average='macro'))"
   ]
  },
  {
   "cell_type": "code",
   "execution_count": 20,
   "metadata": {},
   "outputs": [
    {
     "name": "stdout",
     "output_type": "stream",
     "text": [
      "weighted_precision : 0.9835294360760863\n",
      "weighted_recall : 0.9817987152034261\n",
      "weighted_f1_score : 0.9823840014067916\n"
     ]
    }
   ],
   "source": [
    "print(\"weighted_precision :\", metrics.precision_score(y_test, y_pred, average='weighted'))\n",
    "print(\"weighted_recall :\", metrics.recall_score(y_test, y_pred, average='weighted'))\n",
    "print(\"weighted_f1_score :\", metrics.f1_score(y_test, y_pred, average='weighted'))"
   ]
  },
  {
   "cell_type": "code",
   "execution_count": 21,
   "metadata": {},
   "outputs": [],
   "source": [
    "enc = OneHotEncoder()\n",
    "enc.fit(y_train.reshape(-1, 1))  \n",
    "y_test = enc.transform(y_test.reshape(-1, 1))\n",
    "y_pred = enc.transform(y_pred.reshape(-1, 1))"
   ]
  },
  {
   "cell_type": "code",
   "execution_count": 22,
   "metadata": {},
   "outputs": [],
   "source": [
    "y_test = y_test.toarray()\n",
    "y_pred = y_pred.toarray()"
   ]
  },
  {
   "cell_type": "code",
   "execution_count": 23,
   "metadata": {},
   "outputs": [],
   "source": [
    "n_classes = 25\n",
    "\n",
    "# Compute ROC curve and ROC area for each class\n",
    "fpr = dict()\n",
    "tpr = dict()\n",
    "roc_auc = dict()\n",
    "for i in range(n_classes):\n",
    "    fpr[i], tpr[i], _ = roc_curve(y_test[:, i], y_pred[:, i])\n",
    "    roc_auc[i] = auc(fpr[i], tpr[i])\n",
    "\n",
    "# Compute micro-average ROC curve and ROC area\n",
    "fpr[\"micro\"], tpr[\"micro\"], _ = roc_curve(y_test.ravel(), y_pred.ravel())\n",
    "roc_auc[\"micro\"] = auc(fpr[\"micro\"], tpr[\"micro\"])"
   ]
  },
  {
   "cell_type": "code",
   "execution_count": 24,
   "metadata": {},
   "outputs": [
    {
     "data": {
      "image/png": "[encoded data removed]",
      "text/plain": [
       "<Figure size 576x360 with 1 Axes>"
      ]
     },
     "metadata": {
      "needs_background": "light"
     },
     "output_type": "display_data"
    }
   ],
   "source": [
    "# Compute macro-average ROC curve and ROC area\n",
    "\n",
    "n_classes = 25\n",
    "# First aggregate all false positive rates\n",
    "all_fpr = np.unique(np.concatenate([fpr[i] for i in range(n_classes)]))\n",
    "\n",
    "# Then interpolate all ROC curves at this points\n",
    "mean_tpr = np.zeros_like(all_fpr)\n",
    "for i in range(n_classes):\n",
    "    mean_tpr += interp(all_fpr, fpr[i], tpr[i])\n",
    "\n",
    "# Finally average it and compute AUC\n",
    "mean_tpr /= n_classes\n",
    "\n",
    "fpr[\"macro\"] = all_fpr\n",
    "tpr[\"macro\"] = mean_tpr\n",
    "roc_auc[\"macro\"] = auc(fpr[\"macro\"], tpr[\"macro\"])\n",
    "\n",
    "# Plot all ROC curves\n",
    "lw = 2.5   # line width\n",
    "plt.figure(figsize=(8,5))\n",
    "\n",
    "colors = cycle(['aqua', 'darkorange', 'cornflowerblue', 'lightgreen', 'green', 'red', 'cyan', 'blue', \n",
    "                 'pink', 'purple', 'brown', 'coral', 'chocolate', 'indigo', 'navy'])\n",
    "\n",
    "for i, color in zip(range(n_classes), colors):\n",
    "    plt.plot(fpr[i], tpr[i], color=color, linestyle='dashed', lw=lw,\n",
    "             label='ROC curve of class {0} (area = {1:0.2f})'\n",
    "             ''.format(i, roc_auc[i]))\n",
    "\n",
    "plt.xscale(\"log\")\n",
    "plt.xlabel('False Positive Rate (in log scale)', fontsize=11)\n",
    "plt.ylabel('True Positive Rate', fontsize=11)\n",
    "plt.savefig(\"/home/sanjeev/DL_Exp_Kajal/Finetune_stack_features/MalImg/Plots_malimg/1024_malimg_plots/svm_roc_malimg_1024.eps\",\n",
    "            bbox_inches='tight')\n",
    "plt.savefig(\"/home/sanjeev/DL_Exp_Kajal/Finetune_stack_features/MalImg/Plots_malimg/1024_malimg_plots/svm_roc_malimg_1024.png\",\n",
    "            bbox_inches='tight')\n",
    "\n",
    "plt.show()"
   ]
  }
 ],
 "metadata": {
  "kernelspec": {
   "display_name": "Python 3",
   "language": "python",
   "name": "python3"
  },
  "language_info": {
   "codemirror_mode": {
    "name": "ipython",
    "version": 3
   },
   "file_extension": ".py",
   "mimetype": "text/x-python",
   "name": "python",
   "nbconvert_exporter": "python",
   "pygments_lexer": "ipython3",
   "version": "3.7.4"
  }
 },
 "nbformat": 4,
 "nbformat_minor": 2
}
