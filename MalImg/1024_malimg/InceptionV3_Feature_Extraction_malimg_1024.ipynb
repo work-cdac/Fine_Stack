{
 "cells": [
  {
   "cell_type": "code",
   "execution_count": 1,
   "metadata": {},
   "outputs": [],
   "source": [
    "#importing required libraries\n",
    "import os\n",
    "import glob\n",
    "import time\n",
    "import numpy as np\n",
    "import pandas as pd\n",
    "import matplotlib.pyplot as plt\n",
    " \n",
    "#importing keras libraries\n",
    "import keras\n",
    "from keras.models import Model, Sequential\n",
    "from keras.applications.inception_v3 import InceptionV3\n",
    "from keras.applications.inception_v3 import preprocess_input\n",
    "from keras.preprocessing.image import load_img, img_to_array\n",
    "from keras.layers import Conv2D, Activation, Flatten, Dense\n",
    "\n",
    "#importing sklearn libraries\n",
    "from sklearn.model_selection import train_test_split\n",
    "from sklearn import metrics\n",
    "from sklearn.metrics import precision_recall_fscore_support\n",
    "from sklearn.model_selection import cross_val_score"
   ]
  },
  {
   "cell_type": "code",
   "execution_count": 2,
   "metadata": {},
   "outputs": [],
   "source": [
    "#directory path for full dataset\n",
    "imagedir = \"/home/sanjeev/ML_Dataset/Malimg_data/\""
   ]
  },
  {
   "cell_type": "code",
   "execution_count": 3,
   "metadata": {},
   "outputs": [
    {
     "name": "stdout",
     "output_type": "stream",
     "text": [
      "Label: 0\tFamily:       Adialer.C\tNumber of images: 122\n",
      "Label: 1\tFamily:       Agent.FYI\tNumber of images: 116\n",
      "Label: 2\tFamily:       Allaple.A\tNumber of images: 2949\n",
      "Label: 3\tFamily:       Allaple.L\tNumber of images: 1591\n",
      "Label: 4\tFamily:   Alueron.gen!J\tNumber of images: 198\n",
      "Label: 5\tFamily:       Autorun.K\tNumber of images: 106\n",
      "Label: 6\tFamily:     C2LOP.gen!g\tNumber of images: 200\n",
      "Label: 7\tFamily:         C2LOP.P\tNumber of images: 146\n",
      "Label: 8\tFamily:  Dialplatform.B\tNumber of images: 177\n",
      "Label: 9\tFamily:       Dontovo.A\tNumber of images: 162\n",
      "Label:10\tFamily:        Fakerean\tNumber of images: 381\n",
      "Label:11\tFamily:   Instantaccess\tNumber of images: 431\n",
      "Label:12\tFamily:      Lolyda.AA1\tNumber of images: 213\n",
      "Label:13\tFamily:      Lolyda.AA2\tNumber of images: 184\n",
      "Label:14\tFamily:      Lolyda.AA3\tNumber of images: 123\n",
      "Label:15\tFamily:       Lolyda.AT\tNumber of images: 159\n",
      "Label:16\tFamily:     Malex.gen!J\tNumber of images: 136\n",
      "Label:17\tFamily:   Obfuscator.AD\tNumber of images: 142\n",
      "Label:18\tFamily:        Rbot!gen\tNumber of images: 158\n",
      "Label:19\tFamily:      Skintrim.N\tNumber of images: 80\n",
      "Label:20\tFamily:   Swizzor.gen!E\tNumber of images: 128\n",
      "Label:21\tFamily:   Swizzor.gen!I\tNumber of images: 132\n",
      "Label:22\tFamily:           VB.AT\tNumber of images: 408\n",
      "Label:23\tFamily:      Wintrim.BX\tNumber of images: 97\n",
      "Label:24\tFamily:         Yuner.A\tNumber of images: 800\n"
     ]
    }
   ],
   "source": [
    "cur_dir = os.getcwd()\n",
    "os.chdir(imagedir)  # the parent folder with sub-folders\n",
    "\n",
    "# Get number of samples per family\n",
    "list_fams = sorted(os.listdir(os.getcwd()), key=str.lower)  # vector of strings with family names\n",
    "no_imgs = []  # No. of samples per family\n",
    "for i in range(len(list_fams)):\n",
    "    os.chdir(list_fams[i])\n",
    "    len1 = len(glob.glob('*.png'))  # assuming the images are stored as 'png'\n",
    "    no_imgs.append(len1)\n",
    "    os.chdir('..')\n",
    "num_samples = np.sum(no_imgs)  # total number of all samples\n",
    "\n",
    "# Compute the labels\n",
    "y = np.zeros(num_samples)\n",
    "pos = 0\n",
    "label = 0\n",
    "for i in no_imgs:\n",
    "    print (\"Label:%2d\\tFamily: %15s\\tNumber of images: %d\" % (label, list_fams[label], i))\n",
    "    for j in range(i):\n",
    "        y[pos] = label\n",
    "        pos += 1\n",
    "    label += 1\n",
    "num_classes = label"
   ]
  },
  {
   "cell_type": "code",
   "execution_count": 4,
   "metadata": {},
   "outputs": [
    {
     "name": "stdout",
     "output_type": "stream",
     "text": [
      "Processing images...\n",
      "Images processed: 9339\n"
     ]
    }
   ],
   "source": [
    "width, height, channels = (224, 224, 3) #image input shape\n",
    "X = np.zeros((num_samples, width, height, channels))\n",
    "cnt = 0\n",
    "paths_list = []\n",
    "print(\"Processing images...\")\n",
    "for i in range(len(list_fams)):\n",
    "    for img_file in glob.glob(list_fams[i]+'/*.png'):\n",
    "        paths_list.append(os.path.join(os.getcwd(),img_file))\n",
    "        img = load_img(img_file, target_size=(224, 224))\n",
    "        x = img_to_array(img) #image to array\n",
    "        x = np.expand_dims(x, axis=0)\n",
    "        x = preprocess_input(x)\n",
    "        X[cnt] = x\n",
    "        cnt += 1\n",
    "print(\"Images processed: %d\" %(cnt))"
   ]
  },
  {
   "cell_type": "code",
   "execution_count": 5,
   "metadata": {},
   "outputs": [
    {
     "data": {
      "text/plain": [
       "((9339, 224, 224, 3), (9339,))"
      ]
     },
     "execution_count": 5,
     "metadata": {},
     "output_type": "execute_result"
    }
   ],
   "source": [
    "X.shape, y.shape"
   ]
  },
  {
   "cell_type": "code",
   "execution_count": 6,
   "metadata": {},
   "outputs": [
    {
     "data": {
      "text/plain": [
       "array([ 0.,  0.,  0., ..., 24., 24., 24.])"
      ]
     },
     "execution_count": 6,
     "metadata": {},
     "output_type": "execute_result"
    }
   ],
   "source": [
    "y"
   ]
  },
  {
   "cell_type": "code",
   "execution_count": 7,
   "metadata": {},
   "outputs": [
    {
     "name": "stdout",
     "output_type": "stream",
     "text": [
      "Inception's  311  layers are not added to the layer\n",
      "done\n"
     ]
    }
   ],
   "source": [
    "incV3 = Sequential()\n",
    "incV3.add(Conv2D(3, (3, 3), padding='same', input_shape=(224, 224, 3)))\n",
    "incV3.add(Activation('relu'))\n",
    "\n",
    "_incV3 = InceptionV3(include_top = False)\n",
    "\n",
    "counter=0\n",
    "for layer in _incV3.layers:\n",
    "    layer.trainable = False\n",
    "    counter+=1\n",
    "\n",
    "print(\"Inception's \", counter , \" layers are not added to the layer\")\n",
    "incV3.add(_incV3)\n",
    "print(\"done\")"
   ]
  },
  {
   "cell_type": "code",
   "execution_count": 8,
   "metadata": {},
   "outputs": [],
   "source": [
    "incV3.add(Flatten())\n",
    "\n",
    "incV3.add(Dense(2048, activation='relu'))\n",
    "incV3.add(Dense(1024, activation=\"relu\"))\n",
    "\n",
    "incV3.compile(optimizer='adam', loss='categorical_crossentropy', metrics=['accuracy'])"
   ]
  },
  {
   "cell_type": "code",
   "execution_count": 9,
   "metadata": {},
   "outputs": [
    {
     "name": "stdout",
     "output_type": "stream",
     "text": [
      "Model: \"sequential\"\n",
      "_________________________________________________________________\n",
      " Layer (type)                Output Shape              Param #   \n",
      "=================================================================\n",
      " conv2d (Conv2D)             (None, 224, 224, 3)       84        \n",
      "                                                                 \n",
      " activation (Activation)     (None, 224, 224, 3)       0         \n",
      "                                                                 \n",
      " inception_v3 (Functional)   (None, None, None, 2048)  21802784  \n",
      "                                                                 \n",
      " flatten (Flatten)           (None, 51200)             0         \n",
      "                                                                 \n",
      " dense (Dense)               (None, 2048)              104859648 \n",
      "                                                                 \n",
      " dense_1 (Dense)             (None, 1024)              2098176   \n",
      "                                                                 \n",
      "=================================================================\n",
      "Total params: 128,760,692\n",
      "Trainable params: 106,957,908\n",
      "Non-trainable params: 21,802,784\n",
      "_________________________________________________________________\n"
     ]
    }
   ],
   "source": [
    "incV3.summary()"
   ]
  },
  {
   "cell_type": "code",
   "execution_count": 10,
   "metadata": {},
   "outputs": [
    {
     "name": "stdout",
     "output_type": "stream",
     "text": [
      "CPU times: user 35min 6s, sys: 5min 44s, total: 40min 50s\n",
      "Wall time: 1min 55s\n"
     ]
    }
   ],
   "source": [
    "%%time\n",
    "#extracting features\n",
    "features = incV3.predict(X)"
   ]
  },
  {
   "cell_type": "code",
   "execution_count": 11,
   "metadata": {},
   "outputs": [
    {
     "data": {
      "text/plain": [
       "(9339, 1024)"
      ]
     },
     "execution_count": 11,
     "metadata": {},
     "output_type": "execute_result"
    }
   ],
   "source": [
    "features.shape"
   ]
  },
  {
   "cell_type": "code",
   "execution_count": 12,
   "metadata": {},
   "outputs": [
    {
     "data": {
      "text/plain": [
       "array([0.       , 1.0623143, 2.130467 , ..., 0.       , 0.       ,\n",
       "       0.       ], dtype=float32)"
      ]
     },
     "execution_count": 12,
     "metadata": {},
     "output_type": "execute_result"
    }
   ],
   "source": [
    "features[0]"
   ]
  },
  {
   "cell_type": "code",
   "execution_count": 13,
   "metadata": {},
   "outputs": [],
   "source": [
    "#np.save('/home/sanjeev/DL_Exp_Kajal/Finetune_stack_features/MalImg/inceptionV3_feat_malimg_1024.npy', features)"
   ]
  },
  {
   "cell_type": "code",
   "execution_count": 14,
   "metadata": {},
   "outputs": [],
   "source": [
    "from sklearn.svm import SVC\n",
    "from sklearn.neural_network import MLPClassifier\n",
    "from sklearn.neighbors import KNeighborsClassifier\n",
    "from sklearn.ensemble import RandomForestClassifier\n",
    "from sklearn.tree import ExtraTreeClassifier\n",
    "from sklearn.naive_bayes import GaussianNB"
   ]
  },
  {
   "cell_type": "code",
   "execution_count": 15,
   "metadata": {},
   "outputs": [],
   "source": [
    "feat = np.load(\"/home/sanjeev/DL_Exp_Kajal/Finetune_stack_features/MalImg/inceptionV3_feat_malimg_1024.npy\")"
   ]
  },
  {
   "cell_type": "code",
   "execution_count": 16,
   "metadata": {},
   "outputs": [
    {
     "data": {
      "text/plain": [
       "array([ 0.,  0.,  0., ..., 24., 24., 24.])"
      ]
     },
     "execution_count": 16,
     "metadata": {},
     "output_type": "execute_result"
    }
   ],
   "source": [
    "y"
   ]
  },
  {
   "cell_type": "code",
   "execution_count": 17,
   "metadata": {},
   "outputs": [
    {
     "name": "stdout",
     "output_type": "stream",
     "text": [
      "KNeighborsClassifier()\n",
      "(8405, 1024) (8405,)\n",
      "(934, 1024) (934,)\n",
      "Training Accuracy:  97.18\n",
      "Training Time: 3.20574688911438 seconds\n",
      "Testing Accuracy:  95.717\n",
      "Testing Time: 0.6282410621643066 seconds\n",
      "Model Accuracy for cross validation: 95.7\n",
      "Precision: 96\n",
      "Recall: 96\n",
      "F1_Score: 96\n",
      "*---------------------------*\n",
      "SVC(random_state=31)\n",
      "(8405, 1024) (8405,)\n",
      "(934, 1024) (934,)\n",
      "Training Accuracy:  97.918\n",
      "Training Time: 32.45042824745178 seconds\n",
      "Testing Accuracy:  96.467\n",
      "Testing Time: 2.5104451179504395 seconds\n",
      "Model Accuracy for cross validation: 96.27\n",
      "Precision: 96\n",
      "Recall: 96\n",
      "F1_Score: 96\n",
      "*---------------------------*\n",
      "RandomForestClassifier(random_state=31)\n",
      "(8405, 1024) (8405,)\n",
      "(934, 1024) (934,)\n",
      "Training Accuracy:  100.0\n",
      "Training Time: 40.72601819038391 seconds\n",
      "Testing Accuracy:  94.54\n",
      "Testing Time: 0.1011815071105957 seconds\n",
      "Model Accuracy for cross validation: 94.27\n",
      "Precision: 95\n",
      "Recall: 95\n",
      "F1_Score: 95\n",
      "*---------------------------*\n",
      "MLPClassifier(max_iter=500, random_state=31)\n",
      "(8405, 1024) (8405,)\n",
      "(934, 1024) (934,)\n",
      "Training Accuracy:  98.858\n",
      "Training Time: 32.845515727996826 seconds\n",
      "Testing Accuracy:  96.574\n",
      "Testing Time: 0.015682458877563477 seconds\n",
      "Model Accuracy for cross validation: 97.36\n",
      "Precision: 97\n",
      "Recall: 97\n",
      "F1_Score: 97\n",
      "*---------------------------*\n",
      "ExtraTreeClassifier(random_state=31)\n",
      "(8405, 1024) (8405,)\n",
      "(934, 1024) (934,)\n",
      "Training Accuracy:  100.0\n",
      "Training Time: 0.11459541320800781 seconds\n",
      "Testing Accuracy:  79.015\n",
      "Testing Time: 0.0017440319061279297 seconds\n",
      "Model Accuracy for cross validation: 76.04\n",
      "Precision: 79\n",
      "Recall: 79\n",
      "F1_Score: 79\n",
      "*---------------------------*\n",
      "GaussianNB()\n",
      "(8405, 1024) (8405,)\n",
      "(934, 1024) (934,)\n",
      "Training Accuracy:  89.804\n",
      "Training Time: 1.6006669998168945 seconds\n",
      "Testing Accuracy:  82.227\n",
      "Testing Time: 0.07677960395812988 seconds\n",
      "Model Accuracy for cross validation: 83.85\n",
      "Precision: 82\n",
      "Recall: 82\n",
      "F1_Score: 82\n",
      "*---------------------------*\n",
      "[95.717, 96.467, 94.54, 96.574, 79.015, 82.227, 96, 96, 95, 97, 79, 82, 96, 96, 95, 97, 79, 82, 96, 96, 95, 97, 79, 82, 95.7, 96.27, 94.27, 97.36, 76.04, 83.85]\n"
     ]
    }
   ],
   "source": [
    "#classification model creation using different classifiers\n",
    "def classify(model, x, y):\n",
    "    X_train, X_test, y_train, y_test = train_test_split(x, y, test_size=0.10, random_state=31)\n",
    "    print(X_train.shape, y_train.shape)\n",
    "    print(X_test.shape, y_test.shape)\n",
    "    \n",
    "    start_time = time.time()\n",
    "    \n",
    "    model.fit(X_train, y_train)   \n",
    "    print(\"Training Accuracy: \", round(model.score(X_train, y_train)*100,3))\n",
    "    \n",
    "    end_time = time.time()\n",
    "    training_time = end_time - start_time \n",
    "    print(\"Training Time:\", training_time, \"seconds\")\n",
    "    ###################################################################\n",
    "    start_time = time.time() \n",
    "    print(\"Testing Accuracy: \", round(model.score(X_test, y_test)*100,3))\n",
    "    end_time = time.time()\n",
    "    training_time = end_time - start_time \n",
    "    print(\"Testing Time:\", training_time, \"seconds\")\n",
    "    ####################################################################\n",
    "    acc = round(model.score(X_test, y_test)*100,3)\n",
    "    \n",
    "    score = cross_val_score(model, x, y, cv=5)\n",
    "    print(\"Model Accuracy for cross validation:\", round(np.mean(score)*100, 2))\n",
    "    cv = round(np.mean(score)*100, 2)\n",
    "    \n",
    "    pred = model.predict(X_test)\n",
    "    print('Precision:', int(round(precision_recall_fscore_support(y_test, pred, average='micro')[0]*100, 0)))\n",
    "    print('Recall:', int(round(precision_recall_fscore_support(y_test, pred, average='micro')[1]*100, 0)))\n",
    "    print('F1_Score:', int(round(precision_recall_fscore_support(y_test, pred, average='micro')[2]*100, 0)))\n",
    "    ls = precision_recall_fscore_support(y_test, pred, average='micro')\n",
    "    pre, rec, f1 = int(round(ls[0]*100, 0)), int(round(ls[1]*100, 0)), int(round(ls[2]*100, 0))\n",
    "    print('*---------------------------*')\n",
    "    return [acc, pre, rec, f1, cv]\n",
    "\n",
    "classifiers = [KNeighborsClassifier(),\n",
    "               SVC(random_state=31),\n",
    "               RandomForestClassifier(random_state=31),\n",
    "               MLPClassifier(random_state=31, max_iter=500),\n",
    "               ExtraTreeClassifier(random_state=31),\n",
    "               GaussianNB()]\n",
    "\n",
    "ls_acc, ls_pre, ls_rec, ls_f1, ls_cv = [],[],[],[],[]\n",
    "\n",
    "for classifier in classifiers:\n",
    "    print(classifier)\n",
    "    values = classify(classifier, feat, y)       \n",
    "    \n",
    "    ls_acc.append(values[0])\n",
    "    ls_pre.append(values[1])\n",
    "    ls_rec.append(values[2])\n",
    "    ls_f1.append(values[3])\n",
    "    ls_cv.append(values[4])\n",
    "    \n",
    "print([*ls_acc, *ls_pre, *ls_rec, *ls_f1, *ls_cv])"
   ]
  },
  {
   "cell_type": "code",
   "execution_count": 18,
   "metadata": {},
   "outputs": [],
   "source": [
    "# #classification model creation using different classifiers\n",
    "# def classify(model, x, y):\n",
    "#     X_train, X_test, y_train, y_test = train_test_split(x, y, test_size=0.10, random_state=31)\n",
    "#     print(X_train.shape, y_train.shape)\n",
    "#     print(X_test.shape, y_test.shape)\n",
    "\n",
    "#     model.fit(X_train, y_train)   \n",
    "#     print(\"Training Accuracy: \", round(model.score(X_train, y_train)*100,3))\n",
    "#     print(\"Testing Accuracy: \", round(model.score(X_test, y_test)*100,3))\n",
    "#     acc = round(model.score(X_test, y_test)*100,3)\n",
    "    \n",
    "#     score = cross_val_score(model, x, y, cv=5)\n",
    "#     print(\"Model Accuracy for cross validation:\", round(np.mean(score)*100, 2))\n",
    "#     cv = round(np.mean(score)*100, 2)\n",
    "    \n",
    "#     pred = model.predict(X_test)\n",
    "#     print('Precision:', int(round(precision_recall_fscore_support(y_test, pred, average='micro')[0]*100, 0)))\n",
    "#     print('Recall:', int(round(precision_recall_fscore_support(y_test, pred, average='micro')[1]*100, 0)))\n",
    "#     print('F1_Score:', int(round(precision_recall_fscore_support(y_test, pred, average='micro')[2]*100, 0)))\n",
    "#     ls = precision_recall_fscore_support(y_test, pred, average='micro')\n",
    "#     pre, rec, f1 = int(round(ls[0]*100, 0)), int(round(ls[1]*100, 0)), int(round(ls[2]*100, 0))\n",
    "#     print('*---------------------------*')\n",
    "#     return [acc, pre, rec, f1, cv]\n",
    "\n",
    "# classifiers = [KNeighborsClassifier(),\n",
    "#                SVC(random_state=31),\n",
    "#                RandomForestClassifier(random_state=31),\n",
    "#                MLPClassifier(random_state=31, max_iter=500),\n",
    "#                ExtraTreeClassifier(random_state=31),\n",
    "#                GaussianNB()]\n",
    "\n",
    "# ls_acc, ls_pre, ls_rec, ls_f1, ls_cv = [],[],[],[],[]\n",
    "\n",
    "# for classifier in classifiers:\n",
    "#     print(classifier)\n",
    "#     values = classify(classifier, feat, y)       \n",
    "    \n",
    "#     ls_acc.append(values[0])\n",
    "#     ls_pre.append(values[1])\n",
    "#     ls_rec.append(values[2])\n",
    "#     ls_f1.append(values[3])\n",
    "#     ls_cv.append(values[4])\n",
    "    \n",
    "# print([*ls_acc, *ls_pre, *ls_rec, *ls_f1, *ls_cv])"
   ]
  }
 ],
 "metadata": {
  "kernelspec": {
   "display_name": "Python 3",
   "language": "python",
   "name": "python3"
  },
  "language_info": {
   "codemirror_mode": {
    "name": "ipython",
    "version": 3
   },
   "file_extension": ".py",
   "mimetype": "text/x-python",
   "name": "python",
   "nbconvert_exporter": "python",
   "pygments_lexer": "ipython3",
   "version": "3.7.4"
  }
 },
 "nbformat": 4,
 "nbformat_minor": 2
}
