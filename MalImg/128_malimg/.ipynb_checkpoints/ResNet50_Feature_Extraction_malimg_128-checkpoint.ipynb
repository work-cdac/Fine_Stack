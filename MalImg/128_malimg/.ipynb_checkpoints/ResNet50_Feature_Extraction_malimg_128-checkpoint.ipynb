{
 "cells": [
  {
   "cell_type": "code",
   "execution_count": 1,
   "metadata": {},
   "outputs": [],
   "source": [
    "#importing required libraries\n",
    "import os\n",
    "import glob\n",
    "import numpy as np\n",
    "import pandas as pd\n",
    "import matplotlib.pyplot as plt\n",
    " \n",
    "#importing keras libraries\n",
    "import tensorflow as tf\n",
    "import keras\n",
    "from keras.models import Model, Sequential\n",
    "from tensorflow.keras.applications.resnet50 import ResNet50\n",
    "from keras.applications.imagenet_utils import preprocess_input\n",
    "from keras.preprocessing.image import load_img, img_to_array\n",
    "from keras.layers import Dense, Activation ,Flatten, Conv2D, MaxPool2D\n",
    "\n",
    "#importing sklearn libraries\n",
    "from sklearn.model_selection import train_test_split\n",
    "from sklearn import metrics\n",
    "from sklearn.metrics import precision_recall_fscore_support\n",
    "from sklearn.model_selection import cross_val_score"
   ]
  },
  {
   "cell_type": "code",
   "execution_count": 2,
   "metadata": {},
   "outputs": [],
   "source": [
    "#directory path for full dataset\n",
    "imagedir =\"/home/sanjeev/DL_POC/MlaImg_Data/Malimg_data/\""
   ]
  },
  {
   "cell_type": "code",
   "execution_count": 3,
   "metadata": {},
   "outputs": [
    {
     "name": "stdout",
     "output_type": "stream",
     "text": [
      "Label: 0\tFamily:       Adialer.C\tNumber of images: 122\n",
      "Label: 1\tFamily:       Agent.FYI\tNumber of images: 116\n",
      "Label: 2\tFamily:       Allaple.A\tNumber of images: 2949\n",
      "Label: 3\tFamily:       Allaple.L\tNumber of images: 1591\n",
      "Label: 4\tFamily:   Alueron.gen!J\tNumber of images: 198\n",
      "Label: 5\tFamily:       Autorun.K\tNumber of images: 106\n",
      "Label: 6\tFamily:     C2LOP.gen!g\tNumber of images: 200\n",
      "Label: 7\tFamily:         C2LOP.P\tNumber of images: 146\n",
      "Label: 8\tFamily:  Dialplatform.B\tNumber of images: 177\n",
      "Label: 9\tFamily:       Dontovo.A\tNumber of images: 162\n",
      "Label:10\tFamily:        Fakerean\tNumber of images: 381\n",
      "Label:11\tFamily:   Instantaccess\tNumber of images: 431\n",
      "Label:12\tFamily:      Lolyda.AA1\tNumber of images: 213\n",
      "Label:13\tFamily:      Lolyda.AA2\tNumber of images: 184\n",
      "Label:14\tFamily:      Lolyda.AA3\tNumber of images: 123\n",
      "Label:15\tFamily:       Lolyda.AT\tNumber of images: 159\n",
      "Label:16\tFamily:     Malex.gen!J\tNumber of images: 136\n",
      "Label:17\tFamily:   Obfuscator.AD\tNumber of images: 142\n",
      "Label:18\tFamily:        Rbot!gen\tNumber of images: 158\n",
      "Label:19\tFamily:      Skintrim.N\tNumber of images: 80\n",
      "Label:20\tFamily:   Swizzor.gen!E\tNumber of images: 128\n",
      "Label:21\tFamily:   Swizzor.gen!I\tNumber of images: 132\n",
      "Label:22\tFamily:           VB.AT\tNumber of images: 408\n",
      "Label:23\tFamily:      Wintrim.BX\tNumber of images: 97\n",
      "Label:24\tFamily:         Yuner.A\tNumber of images: 800\n"
     ]
    }
   ],
   "source": [
    "cur_dir = os.getcwd()\n",
    "os.chdir(imagedir)  # the parent folder with sub-folders\n",
    "\n",
    "# Get number of samples per family\n",
    "list_fams = sorted(os.listdir(os.getcwd()), key=str.lower)  # vector of strings with family names\n",
    "no_imgs = []  # No. of samples per family\n",
    "for i in range(len(list_fams)):\n",
    "    os.chdir(list_fams[i])\n",
    "    len1 = len(glob.glob('*.png'))  # assuming the images are stored as 'png'\n",
    "    no_imgs.append(len1)\n",
    "    os.chdir('..')\n",
    "num_samples = np.sum(no_imgs)  # total number of all samples\n",
    "\n",
    "# Compute the labels\n",
    "y = np.zeros(num_samples)\n",
    "pos = 0\n",
    "label = 0\n",
    "for i in no_imgs:\n",
    "    print (\"Label:%2d\\tFamily: %15s\\tNumber of images: %d\" % (label, list_fams[label], i))\n",
    "    for j in range(i):\n",
    "        y[pos] = label\n",
    "        pos += 1\n",
    "    label += 1\n",
    "num_classes = label"
   ]
  },
  {
   "cell_type": "code",
   "execution_count": 4,
   "metadata": {},
   "outputs": [
    {
     "name": "stdout",
     "output_type": "stream",
     "text": [
      "Processing images...\n",
      "Images processed: 9339\n"
     ]
    }
   ],
   "source": [
    "width, height, channels = (224, 224, 3) #image input shape\n",
    "X = np.zeros((num_samples, width, height, channels))\n",
    "cnt = 0\n",
    "paths_list = []\n",
    "print(\"Processing images...\")\n",
    "for i in range(len(list_fams)):\n",
    "    for img_file in glob.glob(list_fams[i]+'/*.png'):\n",
    "        paths_list.append(os.path.join(os.getcwd(),img_file))\n",
    "        img = load_img(img_file, target_size=(224, 224))\n",
    "        x = img_to_array(img) #image to array\n",
    "        x = np.expand_dims(x, axis=0)\n",
    "        x = preprocess_input(x)\n",
    "        X[cnt] = x\n",
    "        cnt += 1\n",
    "print(\"Images processed: %d\" %(cnt))"
   ]
  },
  {
   "cell_type": "code",
   "execution_count": 5,
   "metadata": {},
   "outputs": [
    {
     "data": {
      "text/plain": [
       "((9339, 224, 224, 3), (9339,))"
      ]
     },
     "execution_count": 5,
     "metadata": {},
     "output_type": "execute_result"
    }
   ],
   "source": [
    "X.shape, y.shape"
   ]
  },
  {
   "cell_type": "code",
   "execution_count": 6,
   "metadata": {},
   "outputs": [
    {
     "data": {
      "text/plain": [
       "array([ 1.,  1.,  1., ..., 25., 25., 25.])"
      ]
     },
     "execution_count": 6,
     "metadata": {},
     "output_type": "execute_result"
    }
   ],
   "source": [
    "y"
   ]
  },
  {
   "cell_type": "code",
   "execution_count": 7,
   "metadata": {},
   "outputs": [
    {
     "name": "stdout",
     "output_type": "stream",
     "text": [
      "ResNet's  175  layers are not added to the layer\n",
      "done\n"
     ]
    }
   ],
   "source": [
    "resnet = Sequential()\n",
    "resnet.add(Conv2D(3, (3, 3), padding='same', input_shape=(224, 224, 3)))\n",
    "resnet.add(Activation('relu'))\n",
    "\n",
    "_resnet = ResNet50(include_top = False)\n",
    "\n",
    "counter=0\n",
    "for layer in _resnet.layers:\n",
    "    layer.trainable = False\n",
    "    counter+=1\n",
    "\n",
    "print(\"ResNet's \", counter , \" layers are not added to the layer\")\n",
    "resnet.add(_resnet)\n",
    "print(\"done\")"
   ]
  },
  {
   "cell_type": "code",
   "execution_count": 8,
   "metadata": {},
   "outputs": [],
   "source": [
    "resnet.add(Flatten())\n",
    "resnet.add(Dense(2048,activation='relu'))\n",
    "resnet.add(Dense(128,activation=\"relu\"))\n",
    "\n",
    "resnet.compile(optimizer='adam', loss='categorical_crossentropy', metrics=['accuracy'])"
   ]
  },
  {
   "cell_type": "code",
   "execution_count": 9,
   "metadata": {},
   "outputs": [
    {
     "name": "stdout",
     "output_type": "stream",
     "text": [
      "Model: \"sequential\"\n",
      "_________________________________________________________________\n",
      " Layer (type)                Output Shape              Param #   \n",
      "=================================================================\n",
      " conv2d (Conv2D)             (None, 224, 224, 3)       84        \n",
      "                                                                 \n",
      " activation (Activation)     (None, 224, 224, 3)       0         \n",
      "                                                                 \n",
      " resnet50 (Functional)       (None, None, None, 2048)  23587712  \n",
      "                                                                 \n",
      " flatten (Flatten)           (None, 100352)            0         \n",
      "                                                                 \n",
      " dense (Dense)               (None, 2048)              205522944 \n",
      "                                                                 \n",
      " dense_1 (Dense)             (None, 128)               262272    \n",
      "                                                                 \n",
      "=================================================================\n",
      "Total params: 229,373,012\n",
      "Trainable params: 205,785,300\n",
      "Non-trainable params: 23,587,712\n",
      "_________________________________________________________________\n"
     ]
    }
   ],
   "source": [
    "resnet.summary()"
   ]
  },
  {
   "cell_type": "code",
   "execution_count": 10,
   "metadata": {},
   "outputs": [
    {
     "name": "stdout",
     "output_type": "stream",
     "text": [
      "CPU times: user 1h 12min 15s, sys: 54min 13s, total: 2h 6min 29s\n",
      "Wall time: 3min 6s\n"
     ]
    }
   ],
   "source": [
    "%%time\n",
    "#extracting features\n",
    "features = resnet.predict(X)"
   ]
  },
  {
   "cell_type": "code",
   "execution_count": 11,
   "metadata": {},
   "outputs": [
    {
     "data": {
      "text/plain": [
       "(9339, 128)"
      ]
     },
     "execution_count": 11,
     "metadata": {},
     "output_type": "execute_result"
    }
   ],
   "source": [
    "features.shape"
   ]
  },
  {
   "cell_type": "code",
   "execution_count": 12,
   "metadata": {},
   "outputs": [
    {
     "data": {
      "text/plain": [
       "array([0.        , 0.        , 0.9808557 , 0.8407773 , 0.        ,\n",
       "       0.        , 0.19953442, 0.        , 0.        , 2.6870787 ,\n",
       "       0.        , 0.        , 1.3867153 , 0.        , 0.        ,\n",
       "       1.581275  , 0.        , 0.        , 0.97419643, 1.8615108 ,\n",
       "       0.        , 3.856011  , 1.4503295 , 1.0797784 , 3.2325914 ,\n",
       "       3.408196  , 1.6793444 , 0.        , 0.28128618, 0.        ,\n",
       "       1.877948  , 0.        , 0.        , 0.        , 0.46354228,\n",
       "       1.977584  , 1.2762756 , 0.        , 0.        , 0.        ,\n",
       "       0.        , 0.19803783, 0.492005  , 0.        , 0.44795647,\n",
       "       0.        , 0.8767531 , 0.        , 1.4099357 , 0.17238116,\n",
       "       3.4950657 , 1.3327821 , 0.        , 0.        , 0.        ,\n",
       "       2.8768382 , 0.6396735 , 0.7127636 , 1.4803337 , 0.        ,\n",
       "       0.        , 0.        , 0.        , 0.        , 0.        ,\n",
       "       0.        , 1.5436485 , 0.        , 1.2846904 , 0.40146697,\n",
       "       0.        , 0.        , 0.28624558, 0.        , 0.        ,\n",
       "       0.        , 0.        , 0.        , 4.4799957 , 0.        ,\n",
       "       0.        , 0.        , 0.        , 0.        , 2.1836967 ,\n",
       "       1.4701339 , 0.        , 0.22032219, 0.        , 2.30174   ,\n",
       "       0.        , 0.        , 0.        , 1.8082256 , 0.25414163,\n",
       "       0.        , 0.        , 0.        , 2.1243591 , 1.8690251 ,\n",
       "       0.        , 3.3810396 , 0.        , 0.        , 1.4176593 ,\n",
       "       3.1781783 , 0.        , 0.09121877, 3.766733  , 0.        ,\n",
       "       0.        , 0.14153466, 0.        , 0.        , 2.1379013 ,\n",
       "       0.        , 0.        , 0.        , 0.        , 0.        ,\n",
       "       0.2696749 , 0.        , 0.        , 2.130753  , 0.        ,\n",
       "       0.        , 0.        , 0.        ], dtype=float32)"
      ]
     },
     "execution_count": 12,
     "metadata": {},
     "output_type": "execute_result"
    }
   ],
   "source": [
    "features[0]"
   ]
  },
  {
   "cell_type": "code",
   "execution_count": 13,
   "metadata": {},
   "outputs": [],
   "source": [
    "np.save('/home/sanjeev/DL_Exp_Kajal/Finetune_stack_features/MalImg/resnet50_feat_malimg_128.npy', features)"
   ]
  },
  {
   "cell_type": "code",
   "execution_count": 4,
   "metadata": {},
   "outputs": [],
   "source": [
    "from sklearn.svm import SVC\n",
    "from sklearn.neural_network import MLPClassifier\n",
    "from sklearn.neighbors import KNeighborsClassifier\n",
    "from sklearn.ensemble import RandomForestClassifier\n",
    "from sklearn.tree import ExtraTreeClassifier\n",
    "from sklearn.naive_bayes import GaussianNB"
   ]
  },
  {
   "cell_type": "code",
   "execution_count": 5,
   "metadata": {},
   "outputs": [],
   "source": [
    "feat = np.load(\"/home/sanjeev/DL_Exp_Kajal/Finetune_stack_features/MalImg/resnet50_feat_malimg_128.npy\")"
   ]
  },
  {
   "cell_type": "code",
   "execution_count": 6,
   "metadata": {},
   "outputs": [
    {
     "data": {
      "text/plain": [
       "array([ 0.,  0.,  0., ..., 24., 24., 24.])"
      ]
     },
     "execution_count": 6,
     "metadata": {},
     "output_type": "execute_result"
    }
   ],
   "source": [
    "y"
   ]
  },
  {
   "cell_type": "code",
   "execution_count": 7,
   "metadata": {},
   "outputs": [
    {
     "name": "stdout",
     "output_type": "stream",
     "text": [
      "KNeighborsClassifier()\n",
      "(8405, 128) (8405,)\n",
      "(934, 128) (934,)\n",
      "Training Accuracy:  97.537\n",
      "Testing Accuracy:  96.681\n",
      "Model Accuracy for cross validation: 96.58\n",
      "Precision: 97\n",
      "Recall: 97\n",
      "F1_Score: 97\n",
      "*---------------------------*\n",
      "SVC(random_state=31)\n",
      "(8405, 128) (8405,)\n",
      "(934, 128) (934,)\n",
      "Training Accuracy:  98.525\n",
      "Testing Accuracy:  97.109\n",
      "Model Accuracy for cross validation: 97.3\n",
      "Precision: 97\n",
      "Recall: 97\n",
      "F1_Score: 97\n",
      "*---------------------------*\n",
      "RandomForestClassifier(random_state=31)\n",
      "(8405, 128) (8405,)\n",
      "(934, 128) (934,)\n",
      "Training Accuracy:  100.0\n",
      "Testing Accuracy:  95.61\n",
      "Model Accuracy for cross validation: 96.09\n",
      "Precision: 96\n",
      "Recall: 96\n",
      "F1_Score: 96\n",
      "*---------------------------*\n",
      "MLPClassifier(max_iter=500, random_state=31)\n",
      "(8405, 128) (8405,)\n",
      "(934, 128) (934,)\n",
      "Training Accuracy:  100.0\n",
      "Testing Accuracy:  97.752\n",
      "Model Accuracy for cross validation: 97.41\n",
      "Precision: 98\n",
      "Recall: 98\n",
      "F1_Score: 98\n",
      "*---------------------------*\n",
      "ExtraTreeClassifier(random_state=31)\n",
      "(8405, 128) (8405,)\n",
      "(934, 128) (934,)\n",
      "Training Accuracy:  100.0\n",
      "Testing Accuracy:  83.512\n",
      "Model Accuracy for cross validation: 83.17\n",
      "Precision: 84\n",
      "Recall: 84\n",
      "F1_Score: 84\n",
      "*---------------------------*\n",
      "GaussianNB()\n",
      "(8405, 128) (8405,)\n",
      "(934, 128) (934,)\n",
      "Training Accuracy:  77.454\n",
      "Testing Accuracy:  76.338\n",
      "Model Accuracy for cross validation: 73.8\n",
      "Precision: 76\n",
      "Recall: 76\n",
      "F1_Score: 76\n",
      "*---------------------------*\n",
      "[96.681, 97.109, 95.61, 97.752, 83.512, 76.338, 97, 97, 96, 98, 84, 76, 97, 97, 96, 98, 84, 76, 97, 97, 96, 98, 84, 76, 96.58, 97.3, 96.09, 97.41, 83.17, 73.8]\n"
     ]
    }
   ],
   "source": [
    "#classification model creation using different classifiers\n",
    "def classify(model, x, y):\n",
    "    X_train, X_test, y_train, y_test = train_test_split(x, y, test_size=0.10, random_state=31)\n",
    "    print(X_train.shape, y_train.shape)\n",
    "    print(X_test.shape, y_test.shape)\n",
    "\n",
    "    model.fit(X_train, y_train)   \n",
    "    print(\"Training Accuracy: \", round(model.score(X_train, y_train)*100,3))\n",
    "    print(\"Testing Accuracy: \", round(model.score(X_test, y_test)*100,3))\n",
    "    acc = round(model.score(X_test, y_test)*100,3)\n",
    "    \n",
    "    score = cross_val_score(model, x, y, cv=5)\n",
    "    print(\"Model Accuracy for cross validation:\", round(np.mean(score)*100, 2))\n",
    "    cv = round(np.mean(score)*100, 2)\n",
    "    \n",
    "    pred = model.predict(X_test)\n",
    "    print('Precision:', int(round(precision_recall_fscore_support(y_test, pred, average='micro')[0]*100, 0)))\n",
    "    print('Recall:', int(round(precision_recall_fscore_support(y_test, pred, average='micro')[1]*100, 0)))\n",
    "    print('F1_Score:', int(round(precision_recall_fscore_support(y_test, pred, average='micro')[2]*100, 0)))\n",
    "    ls = precision_recall_fscore_support(y_test, pred, average='micro')\n",
    "    pre, rec, f1 = int(round(ls[0]*100, 0)), int(round(ls[1]*100, 0)), int(round(ls[2]*100, 0))\n",
    "    print('*---------------------------*')\n",
    "    return [acc, pre, rec, f1, cv]\n",
    "\n",
    "classifiers = [KNeighborsClassifier(),\n",
    "               SVC(random_state=31),\n",
    "               RandomForestClassifier(random_state=31),\n",
    "               MLPClassifier(random_state=31, max_iter=500),\n",
    "               ExtraTreeClassifier(random_state=31),\n",
    "               GaussianNB()]\n",
    "\n",
    "ls_acc, ls_pre, ls_rec, ls_f1, ls_cv = [],[],[],[],[]\n",
    "\n",
    "for classifier in classifiers:\n",
    "    print(classifier)\n",
    "    values = classify(classifier, feat, y)       \n",
    "    \n",
    "    ls_acc.append(values[0])\n",
    "    ls_pre.append(values[1])\n",
    "    ls_rec.append(values[2])\n",
    "    ls_f1.append(values[3])\n",
    "    ls_cv.append(values[4])\n",
    "    \n",
    "print([*ls_acc, *ls_pre, *ls_rec, *ls_f1, *ls_cv])"
   ]
  }
 ],
 "metadata": {
  "kernelspec": {
   "display_name": "Python 3",
   "language": "python",
   "name": "python3"
  },
  "language_info": {
   "codemirror_mode": {
    "name": "ipython",
    "version": 3
   },
   "file_extension": ".py",
   "mimetype": "text/x-python",
   "name": "python",
   "nbconvert_exporter": "python",
   "pygments_lexer": "ipython3",
   "version": "3.7.4"
  }
 },
 "nbformat": 4,
 "nbformat_minor": 2
}
