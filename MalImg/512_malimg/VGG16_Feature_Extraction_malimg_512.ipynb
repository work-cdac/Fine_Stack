{
 "cells": [
  {
   "cell_type": "code",
   "execution_count": 1,
   "metadata": {},
   "outputs": [],
   "source": [
    "#importing required libraries\n",
    "import os\n",
    "import glob\n",
    "import time\n",
    "import numpy as np\n",
    "import pandas as pd\n",
    "import matplotlib.pyplot as plt\n",
    " \n",
    "#importing keras libraries\n",
    "import keras\n",
    "from keras.models import Model, Sequential\n",
    "from tensorflow.keras.applications import VGG16\n",
    "from keras.applications.vgg16 import preprocess_input\n",
    "from keras.utils import np_utils\n",
    "from keras.preprocessing import image\n",
    "from keras.preprocessing.image import load_img, img_to_array\n",
    "from keras.layers import Dense, Activation ,Flatten, Conv2D, MaxPool2D\n",
    "\n",
    "#importing sklearn libraries\n",
    "from sklearn.preprocessing import LabelEncoder\n",
    "from sklearn.model_selection import train_test_split\n",
    "from sklearn import metrics\n",
    "from sklearn.metrics import precision_recall_fscore_support\n",
    "from sklearn.model_selection import cross_val_score"
   ]
  },
  {
   "cell_type": "code",
   "execution_count": 2,
   "metadata": {},
   "outputs": [],
   "source": [
    "# imagedir = \"MalImg\"\n",
    "imagedir = \"/home/sanjeev/DL_POC/MlaImg_Data/Malimg_data\""
   ]
  },
  {
   "cell_type": "code",
   "execution_count": 3,
   "metadata": {},
   "outputs": [
    {
     "name": "stdout",
     "output_type": "stream",
     "text": [
      "Malware Families :  ['Adialer.C', 'Agent.FYI', 'Allaple.A', 'Allaple.L', 'Alueron.gen!J', 'Autorun.K', 'C2LOP.P', 'C2LOP.gen!g', 'Dialplatform.B', 'Dontovo.A', 'Fakerean', 'Instantaccess', 'Lolyda.AA1', 'Lolyda.AA2', 'Lolyda.AA3', 'Lolyda.AT', 'Malex.gen!J', 'Obfuscator.AD', 'Rbot!gen', 'Skintrim.N', 'Swizzor.gen!E', 'Swizzor.gen!I', 'VB.AT', 'Wintrim.BX', 'Yuner.A'] \n",
      "\n",
      "Label: 0\tFamily:       Adialer.C\tNumber of images: 122\n",
      "Label: 1\tFamily:       Agent.FYI\tNumber of images: 116\n",
      "Label: 2\tFamily:       Allaple.A\tNumber of images: 2949\n",
      "Label: 3\tFamily:       Allaple.L\tNumber of images: 1591\n",
      "Label: 4\tFamily:   Alueron.gen!J\tNumber of images: 198\n",
      "Label: 5\tFamily:       Autorun.K\tNumber of images: 106\n",
      "Label: 6\tFamily:     C2LOP.gen!g\tNumber of images: 200\n",
      "Label: 7\tFamily:         C2LOP.P\tNumber of images: 146\n",
      "Label: 8\tFamily:  Dialplatform.B\tNumber of images: 177\n",
      "Label: 9\tFamily:       Dontovo.A\tNumber of images: 162\n",
      "Label:10\tFamily:        Fakerean\tNumber of images: 381\n",
      "Label:11\tFamily:   Instantaccess\tNumber of images: 431\n",
      "Label:12\tFamily:      Lolyda.AA1\tNumber of images: 213\n",
      "Label:13\tFamily:      Lolyda.AA2\tNumber of images: 184\n",
      "Label:14\tFamily:      Lolyda.AA3\tNumber of images: 123\n",
      "Label:15\tFamily:       Lolyda.AT\tNumber of images: 159\n",
      "Label:16\tFamily:     Malex.gen!J\tNumber of images: 136\n",
      "Label:17\tFamily:   Obfuscator.AD\tNumber of images: 142\n",
      "Label:18\tFamily:        Rbot!gen\tNumber of images: 158\n",
      "Label:19\tFamily:      Skintrim.N\tNumber of images: 80\n",
      "Label:20\tFamily:   Swizzor.gen!E\tNumber of images: 128\n",
      "Label:21\tFamily:   Swizzor.gen!I\tNumber of images: 132\n",
      "Label:22\tFamily:           VB.AT\tNumber of images: 408\n",
      "Label:23\tFamily:      Wintrim.BX\tNumber of images: 97\n",
      "Label:24\tFamily:         Yuner.A\tNumber of images: 800\n"
     ]
    }
   ],
   "source": [
    "cur_dir = os.getcwd()\n",
    "os.chdir(imagedir)  # the parent folder with sub-folders\n",
    "\n",
    "# Get number of samples per family\n",
    "list_fams = sorted(os.listdir(os.getcwd()), key=str.lower)  # vector of strings with family names\n",
    "mal_family = list_fams[:]\n",
    "mal_family.sort()\n",
    "print(\"Malware Families : \", mal_family, \"\\n\")\n",
    "no_imgs = []  # No. of samples per family\n",
    "for i in range(len(list_fams)):\n",
    "    os.chdir(list_fams[i])\n",
    "    len1 = len(glob.glob('*.png'))  # assuming the images are stored as 'png'\n",
    "    no_imgs.append(len1)\n",
    "    os.chdir('..')\n",
    "num_samples = np.sum(no_imgs)  # total number of all samples\n",
    "\n",
    "# Compute the labels\n",
    "y = np.zeros(num_samples)\n",
    "pos = 0\n",
    "label = 0\n",
    "for i in no_imgs:\n",
    "    print (\"Label:%2d\\tFamily: %15s\\tNumber of images: %d\" % (label, list_fams[label], i))\n",
    "    for j in range(i):\n",
    "        y[pos] = label\n",
    "        pos += 1\n",
    "    label += 1\n",
    "num_classes = label"
   ]
  },
  {
   "cell_type": "code",
   "execution_count": 4,
   "metadata": {},
   "outputs": [
    {
     "name": "stdout",
     "output_type": "stream",
     "text": [
      "Processing images ...\n",
      "Images processed: 9339\n"
     ]
    }
   ],
   "source": [
    "# Compute the features\n",
    "width, height,channels = (224,224,3)\n",
    "X = np.zeros((num_samples, width, height, channels))\n",
    "cnt = 0\n",
    "list_paths = [] # List of image paths\n",
    "print(\"Processing images ...\")\n",
    "for i in range(len(list_fams)):\n",
    "    for img_file in glob.glob(list_fams[i]+'/*.png'):\n",
    "        #print(\"[%d] Processing image: %s\" % (cnt, img_file))\n",
    "        list_paths.append(os.path.join(os.getcwd(),img_file))\n",
    "        img = image.load_img(img_file, target_size=(224, 224))\n",
    "        x = image.img_to_array(img)\n",
    "        x = np.expand_dims(x, axis=0)\n",
    "        x = preprocess_input(x)\n",
    "        X[cnt] = x\n",
    "        cnt += 1\n",
    "print(\"Images processed: %d\" %(cnt))\n",
    "\n",
    "os.chdir(cur_dir)"
   ]
  },
  {
   "cell_type": "code",
   "execution_count": 5,
   "metadata": {},
   "outputs": [],
   "source": [
    "# Encoding classes (y) into integers (y_encoded) and then generating one-hot-encoding (Y)\n",
    "encoder = LabelEncoder()\n",
    "encoder.fit(y)\n",
    "y_encoded = encoder.transform(y)\n",
    "Y = np_utils.to_categorical(y_encoded)"
   ]
  },
  {
   "cell_type": "code",
   "execution_count": 6,
   "metadata": {
    "colab": {
     "base_uri": "https://localhost:8080/",
     "height": 141
    },
    "colab_type": "code",
    "id": "2xKz-oT9vw83",
    "outputId": "b2aa2ffd-c811-406d-eb5d-3b21c973be20"
   },
   "outputs": [
    {
     "name": "stdout",
     "output_type": "stream",
     "text": [
      "VGG's  19  layers are not added to the layer\n",
      "done\n"
     ]
    }
   ],
   "source": [
    "vgg = Sequential()\n",
    "vgg.add(Conv2D(3, (3, 3), padding='same', input_shape=(224, 224, 3)))\n",
    "vgg.add(Activation('relu'))\n",
    "\n",
    "_vgg = VGG16(weights='imagenet', include_top=False)\n",
    "\n",
    "counter=0\n",
    "for layer in _vgg.layers:\n",
    "    layer.trainable = False\n",
    "    counter+=1\n",
    "\n",
    "print(\"VGG's \", counter , \" layers are not added to the layer\")\n",
    "vgg.add(_vgg)\n",
    "print(\"done\")"
   ]
  },
  {
   "cell_type": "code",
   "execution_count": 7,
   "metadata": {},
   "outputs": [],
   "source": [
    "vgg.add(Flatten())\n",
    "\n",
    "vgg.add(Dense(4096,activation='relu'))\n",
    "vgg.add(Dense(4096,activation='relu'))\n",
    "vgg.add(Dense(512,activation=\"relu\"))\n",
    "\n",
    "vgg.compile(optimizer='adam', loss='categorical_crossentropy', metrics=['accuracy'])"
   ]
  },
  {
   "cell_type": "code",
   "execution_count": 8,
   "metadata": {},
   "outputs": [
    {
     "name": "stdout",
     "output_type": "stream",
     "text": [
      "Model: \"sequential\"\n",
      "_________________________________________________________________\n",
      " Layer (type)                Output Shape              Param #   \n",
      "=================================================================\n",
      " conv2d (Conv2D)             (None, 224, 224, 3)       84        \n",
      "                                                                 \n",
      " activation (Activation)     (None, 224, 224, 3)       0         \n",
      "                                                                 \n",
      " vgg16 (Functional)          (None, None, None, 512)   14714688  \n",
      "                                                                 \n",
      " flatten (Flatten)           (None, 25088)             0         \n",
      "                                                                 \n",
      " dense (Dense)               (None, 4096)              102764544 \n",
      "                                                                 \n",
      " dense_1 (Dense)             (None, 4096)              16781312  \n",
      "                                                                 \n",
      " dense_2 (Dense)             (None, 512)               2097664   \n",
      "                                                                 \n",
      "=================================================================\n",
      "Total params: 136,358,292\n",
      "Trainable params: 121,643,604\n",
      "Non-trainable params: 14,714,688\n",
      "_________________________________________________________________\n"
     ]
    }
   ],
   "source": [
    "vgg.summary()"
   ]
  },
  {
   "cell_type": "code",
   "execution_count": 9,
   "metadata": {},
   "outputs": [
    {
     "name": "stdout",
     "output_type": "stream",
     "text": [
      "CPU times: user 2h 15min 3s, sys: 27min 53s, total: 2h 42min 56s\n",
      "Wall time: 14min 52s\n"
     ]
    },
    {
     "data": {
      "text/plain": [
       "(9339, 512)"
      ]
     },
     "execution_count": 9,
     "metadata": {},
     "output_type": "execute_result"
    }
   ],
   "source": [
    "%%time\n",
    "feat = vgg.predict(X)\n",
    "feat.shape"
   ]
  },
  {
   "cell_type": "code",
   "execution_count": 10,
   "metadata": {},
   "outputs": [],
   "source": [
    "#np.save(\"/home/sanjeev/DL_Exp_Kajal/Finetune_stack_features/MalImg/vgg16_feat_malimg_512.npy\", feat)"
   ]
  },
  {
   "cell_type": "code",
   "execution_count": 11,
   "metadata": {},
   "outputs": [],
   "source": [
    "from sklearn.svm import SVC\n",
    "from sklearn.neural_network import MLPClassifier\n",
    "from sklearn.neighbors import KNeighborsClassifier\n",
    "from sklearn.ensemble import RandomForestClassifier\n",
    "from sklearn.tree import ExtraTreeClassifier\n",
    "from sklearn.naive_bayes import GaussianNB"
   ]
  },
  {
   "cell_type": "code",
   "execution_count": 12,
   "metadata": {},
   "outputs": [],
   "source": [
    "feat = np.load(\"/home/sanjeev/DL_Exp_Kajal/Finetune_stack_features/MalImg/vgg16_feat_malimg_512.npy\")"
   ]
  },
  {
   "cell_type": "code",
   "execution_count": 13,
   "metadata": {},
   "outputs": [
    {
     "data": {
      "text/plain": [
       "array([ 0.,  0.,  0., ..., 24., 24., 24.])"
      ]
     },
     "execution_count": 13,
     "metadata": {},
     "output_type": "execute_result"
    }
   ],
   "source": [
    "y"
   ]
  },
  {
   "cell_type": "code",
   "execution_count": 14,
   "metadata": {},
   "outputs": [
    {
     "name": "stdout",
     "output_type": "stream",
     "text": [
      "KNeighborsClassifier()\n",
      "(8405, 512) (8405,)\n",
      "(934, 512) (934,)\n",
      "Training Accuracy:  98.334\n",
      "Training Time: 4.141347408294678 seconds\n",
      "Testing Accuracy:  98.287\n",
      "Testing Time: 0.9005074501037598 seconds\n",
      "Model Accuracy for cross validation: 97.64\n",
      "Precision: 98\n",
      "Recall: 98\n",
      "F1_Score: 98\n",
      "*---------------------------*\n",
      "SVC(random_state=31)\n",
      "(8405, 512) (8405,)\n",
      "(934, 512) (934,)\n",
      "Training Accuracy:  99.096\n",
      "Training Time: 25.93344759941101 seconds\n",
      "Testing Accuracy:  98.394\n",
      "Testing Time: 1.117750644683838 seconds\n",
      "Model Accuracy for cross validation: 98.27\n",
      "Precision: 98\n",
      "Recall: 98\n",
      "F1_Score: 98\n",
      "*---------------------------*\n",
      "RandomForestClassifier(random_state=31)\n",
      "(8405, 512) (8405,)\n",
      "(934, 512) (934,)\n",
      "Training Accuracy:  100.0\n",
      "Training Time: 24.547622680664062 seconds\n",
      "Testing Accuracy:  96.788\n",
      "Testing Time: 0.08360457420349121 seconds\n",
      "Model Accuracy for cross validation: 96.53\n",
      "Precision: 97\n",
      "Recall: 97\n",
      "F1_Score: 97\n",
      "*---------------------------*\n",
      "MLPClassifier(max_iter=500, random_state=31)\n",
      "(8405, 512) (8405,)\n",
      "(934, 512) (934,)\n",
      "Training Accuracy:  100.0\n",
      "Training Time: 15.46651840209961 seconds\n",
      "Testing Accuracy:  98.501\n",
      "Testing Time: 0.02580738067626953 seconds\n",
      "Model Accuracy for cross validation: 98.22\n",
      "Precision: 99\n",
      "Recall: 99\n",
      "F1_Score: 99\n",
      "*---------------------------*\n",
      "ExtraTreeClassifier(random_state=31)\n",
      "(8405, 512) (8405,)\n",
      "(934, 512) (934,)\n",
      "Training Accuracy:  100.0\n",
      "Training Time: 0.08332180976867676 seconds\n",
      "Testing Accuracy:  84.797\n",
      "Testing Time: 0.0029304027557373047 seconds\n",
      "Model Accuracy for cross validation: 84.68\n",
      "Precision: 85\n",
      "Recall: 85\n",
      "F1_Score: 85\n",
      "*---------------------------*\n",
      "GaussianNB()\n",
      "(8405, 512) (8405,)\n",
      "(934, 512) (934,)\n",
      "Training Accuracy:  89.578\n",
      "Training Time: 0.6911566257476807 seconds\n",
      "Testing Accuracy:  85.225\n",
      "Testing Time: 0.04000377655029297 seconds\n",
      "Model Accuracy for cross validation: 84.25\n",
      "Precision: 85\n",
      "Recall: 85\n",
      "F1_Score: 85\n",
      "*---------------------------*\n",
      "[98.287, 98.394, 96.788, 98.501, 84.797, 85.225, 98, 98, 97, 99, 85, 85, 98, 98, 97, 99, 85, 85, 98, 98, 97, 99, 85, 85, 97.64, 98.27, 96.53, 98.22, 84.68, 84.25]\n"
     ]
    }
   ],
   "source": [
    "#classification model creation using different classifiers\n",
    "def classify(model, x, y):\n",
    "    X_train, X_test, y_train, y_test = train_test_split(x, y, test_size=0.10, random_state=31)\n",
    "    print(X_train.shape, y_train.shape)\n",
    "    print(X_test.shape, y_test.shape)\n",
    "    \n",
    "    start_time = time.time()\n",
    "    \n",
    "    model.fit(X_train, y_train)   \n",
    "    print(\"Training Accuracy: \", round(model.score(X_train, y_train)*100,3))\n",
    "    \n",
    "    end_time = time.time()\n",
    "    training_time = end_time - start_time \n",
    "    print(\"Training Time:\", training_time, \"seconds\")\n",
    "    ###################################################################\n",
    "    start_time = time.time() \n",
    "    print(\"Testing Accuracy: \", round(model.score(X_test, y_test)*100,3))\n",
    "    end_time = time.time()\n",
    "    training_time = end_time - start_time \n",
    "    print(\"Testing Time:\", training_time, \"seconds\")\n",
    "    ####################################################################\n",
    "    acc = round(model.score(X_test, y_test)*100,3)\n",
    "    \n",
    "    score = cross_val_score(model, x, y, cv=5)\n",
    "    print(\"Model Accuracy for cross validation:\", round(np.mean(score)*100, 2))\n",
    "    cv = round(np.mean(score)*100, 2)\n",
    "    \n",
    "    pred = model.predict(X_test)\n",
    "    print('Precision:', int(round(precision_recall_fscore_support(y_test, pred, average='micro')[0]*100, 0)))\n",
    "    print('Recall:', int(round(precision_recall_fscore_support(y_test, pred, average='micro')[1]*100, 0)))\n",
    "    print('F1_Score:', int(round(precision_recall_fscore_support(y_test, pred, average='micro')[2]*100, 0)))\n",
    "    ls = precision_recall_fscore_support(y_test, pred, average='micro')\n",
    "    pre, rec, f1 = int(round(ls[0]*100, 0)), int(round(ls[1]*100, 0)), int(round(ls[2]*100, 0))\n",
    "    print('*---------------------------*')\n",
    "    return [acc, pre, rec, f1, cv]\n",
    "\n",
    "classifiers = [KNeighborsClassifier(),\n",
    "               SVC(random_state=31),\n",
    "               RandomForestClassifier(random_state=31),\n",
    "               MLPClassifier(random_state=31, max_iter=500),\n",
    "               ExtraTreeClassifier(random_state=31),\n",
    "               GaussianNB()]\n",
    "\n",
    "ls_acc, ls_pre, ls_rec, ls_f1, ls_cv = [],[],[],[],[]\n",
    "\n",
    "for classifier in classifiers:\n",
    "    print(classifier)\n",
    "    values = classify(classifier, feat, y)       \n",
    "    \n",
    "    ls_acc.append(values[0])\n",
    "    ls_pre.append(values[1])\n",
    "    ls_rec.append(values[2])\n",
    "    ls_f1.append(values[3])\n",
    "    ls_cv.append(values[4])\n",
    "    \n",
    "print([*ls_acc, *ls_pre, *ls_rec, *ls_f1, *ls_cv])"
   ]
  },
  {
   "cell_type": "code",
   "execution_count": 15,
   "metadata": {},
   "outputs": [],
   "source": [
    "# #classification model creation using different classifiers\n",
    "# def classify(model, x, y):\n",
    "#     X_train, X_test, y_train, y_test = train_test_split(x, y, test_size=0.10, random_state=31)\n",
    "#     print(X_train.shape, y_train.shape)\n",
    "#     print(X_test.shape, y_test.shape)\n",
    "\n",
    "#     model.fit(X_train, y_train)   \n",
    "#     print(\"Training Accuracy: \", round(model.score(X_train, y_train)*100,3))\n",
    "#     print(\"Testing Accuracy: \", round(model.score(X_test, y_test)*100,3))\n",
    "#     acc = round(model.score(X_test, y_test)*100,3)\n",
    "    \n",
    "#     score = cross_val_score(model, x, y, cv=5)\n",
    "#     print(\"Model Accuracy for cross validation:\", round(np.mean(score)*100, 2))\n",
    "#     cv = round(np.mean(score)*100, 2)\n",
    "    \n",
    "#     pred = model.predict(X_test)\n",
    "#     print('Precision:', int(round(precision_recall_fscore_support(y_test, pred, average='micro')[0]*100, 0)))\n",
    "#     print('Recall:', int(round(precision_recall_fscore_support(y_test, pred, average='micro')[1]*100, 0)))\n",
    "#     print('F1_Score:', int(round(precision_recall_fscore_support(y_test, pred, average='micro')[2]*100, 0)))\n",
    "#     ls = precision_recall_fscore_support(y_test, pred, average='micro')\n",
    "#     pre, rec, f1 = int(round(ls[0]*100, 0)), int(round(ls[1]*100, 0)), int(round(ls[2]*100, 0))\n",
    "#     print('*---------------------------*')\n",
    "#     return [acc, pre, rec, f1, cv]\n",
    "\n",
    "# classifiers = [KNeighborsClassifier(),\n",
    "#                SVC(random_state=31),\n",
    "#                RandomForestClassifier(random_state=31),\n",
    "#                MLPClassifier(random_state=31, max_iter=600),\n",
    "#                ExtraTreeClassifier(random_state=31),\n",
    "#                GaussianNB()]\n",
    "\n",
    "# ls_acc, ls_pre, ls_rec, ls_f1, ls_cv = [],[],[],[],[]\n",
    "\n",
    "# for classifier in classifiers:\n",
    "#     print(classifier)\n",
    "#     values = classify(classifier, feat, y)       \n",
    "    \n",
    "#     ls_acc.append(values[0])\n",
    "#     ls_pre.append(values[1])\n",
    "#     ls_rec.append(values[2])\n",
    "#     ls_f1.append(values[3])\n",
    "#     ls_cv.append(values[4])\n",
    "    \n",
    "# print([*ls_acc, *ls_pre, *ls_rec, *ls_f1, *ls_cv])"
   ]
  }
 ],
 "metadata": {
  "colab": {
   "collapsed_sections": [],
   "name": "06072020vgg16realdata64*64.ipynb",
   "provenance": []
  },
  "kernelspec": {
   "display_name": "Python 3",
   "language": "python",
   "name": "python3"
  },
  "language_info": {
   "codemirror_mode": {
    "name": "ipython",
    "version": 3
   },
   "file_extension": ".py",
   "mimetype": "text/x-python",
   "name": "python",
   "nbconvert_exporter": "python",
   "pygments_lexer": "ipython3",
   "version": "3.7.4"
  }
 },
 "nbformat": 4,
 "nbformat_minor": 1
}
